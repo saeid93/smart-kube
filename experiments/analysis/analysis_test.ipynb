{
 "cells": [
  {
   "cell_type": "markdown",
   "metadata": {},
   "source": [
    "# Load the tests to compare"
   ]
  },
  {
   "cell_type": "code",
   "execution_count": 1,
   "metadata": {},
   "outputs": [
    {
     "name": "stdout",
     "output_type": "stream",
     "text": [
      "availeble tests:\n",
      " [0, 1, 2]\n",
      "tests_types:\n",
      " ['PPO', 'PPO', 'PPO']\n"
     ]
    }
   ],
   "source": [
    "import os\n",
    "import sys\n",
    "import json\n",
    "import pickle\n",
    "import pandas as pd\n",
    "__file__ = globals()['_dh'][0]\n",
    "\n",
    "# get an absolute path to the directory that contains parent files\n",
    "project_dir = __file__ = globals()['_dh'][0]\n",
    "sys.path.append(os.path.normpath(os.path.join(project_dir, '..', '..')))\n",
    "\n",
    "from experiments.utils.constants import TESTS_RESULTS_PATH\n",
    "series = 1\n",
    "start_test = 0\n",
    "end_test = 3\n",
    "tests_ids = [i for i in range(start_test, end_test)]\n",
    "tests_names = [i for i in range(start_test, end_test)]\n",
    "\n",
    "tests = {}\n",
    "\n",
    "\n",
    "for test_id, test_name in zip(tests_ids, tests_names):\n",
    "    test_path = os.path.join(\n",
    "        TESTS_RESULTS_PATH,\n",
    "        'series',\n",
    "        str(series),\n",
    "        'tests',\n",
    "        str(test_id))\n",
    "    with open(os.path.join(test_path, 'info.json')) as cf:\n",
    "        info = json.loads(cf.read())\n",
    "    with open(os.path.join(test_path, 'episodes.pickle'), 'rb') as input_file:\n",
    "        episodes = pickle.load(input_file)\n",
    "    tests.update({test_name: {\n",
    "        'info': info,\n",
    "        'episodes': episodes\n",
    "    }})\n",
    "test_types = [test['info']['algorithm'] for _, test in tests.items()]\n",
    "print(\"availeble tests:\\n {}\\ntests_types:\\n {}\".format(\n",
    "    list(tests.keys()),\n",
    "    test_types))"
   ]
  },
  {
   "cell_type": "markdown",
   "metadata": {},
   "source": [
    "# All Stats of a test"
   ]
  },
  {
   "cell_type": "code",
   "execution_count": 2,
   "metadata": {},
   "outputs": [
    {
     "name": "stdout",
     "output_type": "stream",
     "text": [
      "tests entry structure:\n",
      "dict_keys(['info', 'episodes'])\n",
      "tests entry info structure:\n",
      "dict_keys(['type_env', 'series', 'cluster_id', 'workload_id', 'checkpoint', 'experiment_str', 'experiments', 'episode_length', 'num_episodes', 'algorithm', 'penalty_consolidated', 'num_workers'])\n",
      "tests entry episodes info:\n",
      "Index(['action', 'num_consolidated', 'num_overloaded', 'scheduling_timestep',\n",
      "       'scheduling_success', 'reward_illegal', 'reward_u', 'reward_c',\n",
      "       'reward_v', 'reward_g', 'reward_p', 'reward'],\n",
      "      dtype='object')\n"
     ]
    }
   ],
   "source": [
    "test_id = 0\n",
    "episdoe_id = 0\n",
    "print(f'tests entry structure:\\n{tests[test_id].keys()}')\n",
    "print(f\"tests entry info structure:\\n{tests[test_id]['info'].keys()}\")\n",
    "print(f\"tests entry episodes info:\\n{tests[test_id]['episodes'][episdoe_id].columns}\")"
   ]
  },
  {
   "cell_type": "markdown",
   "metadata": {},
   "source": [
    "# Extracting necessary stats of all tests"
   ]
  },
  {
   "cell_type": "code",
   "execution_count": 3,
   "metadata": {},
   "outputs": [],
   "source": [
    "final_stats = []\n",
    "for test_id in range(start_test, end_test):\n",
    "    # TODO check for correctness\n",
    "    num_consolidated_episodes_average = [episode['num_consolidated'].mean() for episode in tests[test_id]['episodes']]\n",
    "    num_consolidated_test_average = sum(num_consolidated_episodes_average) / len(num_consolidated_episodes_average)\n",
    "\n",
    "    num_overloaded_episodes_average = [episode['num_overloaded'].mean() for episode in tests[test_id]['episodes']]\n",
    "    num_overloaded_test_average = sum(num_overloaded_episodes_average) / len(num_overloaded_episodes_average)\n",
    "\n",
    "    scheduling_success_episodes_average = [episode['scheduling_success'].mean() for episode in tests[test_id]['episodes']]\n",
    "    scheduling_success_test_average = sum(scheduling_success_episodes_average) / len(scheduling_success_episodes_average)\n",
    "\n",
    "    reward_illegal_episodes_average = [episode['reward_illegal'].mean() for episode in tests[test_id]['episodes']]\n",
    "    reward_illegal_test_average = sum(reward_illegal_episodes_average) / len(reward_illegal_episodes_average)\n",
    "\n",
    "    reward_u_episodes_average = [episode['reward_u'].mean() for episode in tests[test_id]['episodes']]\n",
    "    reward_u_test_average = sum(reward_u_episodes_average) / len(reward_u_episodes_average)\n",
    "\n",
    "    reward_c_episodes_average = [episode['reward_c'].mean() for episode in tests[test_id]['episodes']]\n",
    "    reward_c_test_average = sum(reward_c_episodes_average) / len(reward_c_episodes_average)\n",
    "\n",
    "    reward_v_episodes_average = [episode['reward_v'].mean() for episode in tests[test_id]['episodes']]\n",
    "    reward_v_test_average = sum(reward_v_episodes_average) / len(reward_v_episodes_average)\n",
    "\n",
    "    reward_g_episodes_average = [episode['reward_g'].mean() for episode in tests[test_id]['episodes']]\n",
    "    reward_g_test_average = sum(reward_g_episodes_average) / len(reward_g_episodes_average)\n",
    "\n",
    "    reward_p_episodes_average = [episode['reward_p'].mean() for episode in tests[test_id]['episodes']]\n",
    "    reward_p_test_average = sum(reward_p_episodes_average) / len(reward_p_episodes_average)\n",
    "\n",
    "    reward_episodes_average = [episode['reward'].mean() for episode in tests[test_id]['episodes']]\n",
    "    reward_test_average = sum(reward_episodes_average) / len(reward_episodes_average)\n",
    "\n",
    "\n",
    "    final_stats.append({\n",
    "        'test_id': test_id,\n",
    "        'checkpoint': tests[test_id]['info']['checkpoint'],\n",
    "        # TODO where is workload id\n",
    "        'workload_id': tests[test_id]['info']['workload_id'],\n",
    "        'experiments': tests[test_id]['info']['experiments'],\n",
    "        'episode_length': tests[test_id]['info']['episode_length'],\n",
    "        'num_episodes': tests[test_id]['info']['num_episodes'],\n",
    "        'penalalty_consolidated': tests[test_id]['info']['penalty_consolidated'],\n",
    "        'num_consolidated_test_average': num_consolidated_test_average\n",
    "    })\n",
    "\n",
    "final_stats_df = pd.DataFrame(final_stats)\n",
    "final_stats_df['test_types'] = test_types\n",
    "# final_stats_df.loc[df['penalalty_consolidated']]\n",
    "\n",
    "# TODO add the following information to the table (from the info.json file)\n",
    "# - penatly_latency\n",
    "# - penalty_conslidation"
   ]
  },
  {
   "cell_type": "code",
   "execution_count": 4,
   "metadata": {},
   "outputs": [
    {
     "data": {
      "text/plain": [
       "{'type_env': 'sim-scheduler',\n",
       " 'series': 1,\n",
       " 'cluster_id': 0,\n",
       " 'workload_id': 0,\n",
       " 'checkpoint': 100,\n",
       " 'experiment_str': 'PPO_SimSchedulerEnv_744f8_00000_0_2022-06-11_18-03-45',\n",
       " 'experiments': 0,\n",
       " 'episode_length': 10,\n",
       " 'num_episodes': 1,\n",
       " 'algorithm': 'PPO',\n",
       " 'penalty_consolidated': 1,\n",
       " 'num_workers': 4}"
      ]
     },
     "execution_count": 4,
     "metadata": {},
     "output_type": "execute_result"
    }
   ],
   "source": [
    "test_id = 0\n",
    "tests[test_id]['info']"
   ]
  },
  {
   "cell_type": "markdown",
   "metadata": {},
   "source": [
    "# compare tests - tables"
   ]
  },
  {
   "cell_type": "code",
   "execution_count": 5,
   "metadata": {},
   "outputs": [
    {
     "data": {
      "text/html": [
       "<div>\n",
       "<style scoped>\n",
       "    .dataframe tbody tr th:only-of-type {\n",
       "        vertical-align: middle;\n",
       "    }\n",
       "\n",
       "    .dataframe tbody tr th {\n",
       "        vertical-align: top;\n",
       "    }\n",
       "\n",
       "    .dataframe thead th {\n",
       "        text-align: right;\n",
       "    }\n",
       "</style>\n",
       "<table border=\"1\" class=\"dataframe\">\n",
       "  <thead>\n",
       "    <tr style=\"text-align: right;\">\n",
       "      <th></th>\n",
       "      <th>test_id</th>\n",
       "      <th>checkpoint</th>\n",
       "      <th>workload_id</th>\n",
       "      <th>experiments</th>\n",
       "      <th>episode_length</th>\n",
       "      <th>num_episodes</th>\n",
       "      <th>penalalty_consolidated</th>\n",
       "      <th>num_consolidated_test_average</th>\n",
       "      <th>test_types</th>\n",
       "    </tr>\n",
       "  </thead>\n",
       "  <tbody>\n",
       "    <tr>\n",
       "      <th>0</th>\n",
       "      <td>0</td>\n",
       "      <td>100</td>\n",
       "      <td>0</td>\n",
       "      <td>0</td>\n",
       "      <td>10</td>\n",
       "      <td>1</td>\n",
       "      <td>1</td>\n",
       "      <td>2.5000</td>\n",
       "      <td>PPO</td>\n",
       "    </tr>\n",
       "    <tr>\n",
       "      <th>1</th>\n",
       "      <td>1</td>\n",
       "      <td>100</td>\n",
       "      <td>0</td>\n",
       "      <td>0</td>\n",
       "      <td>200</td>\n",
       "      <td>1</td>\n",
       "      <td>1</td>\n",
       "      <td>2.0625</td>\n",
       "      <td>PPO</td>\n",
       "    </tr>\n",
       "    <tr>\n",
       "      <th>2</th>\n",
       "      <td>2</td>\n",
       "      <td>100</td>\n",
       "      <td>0</td>\n",
       "      <td>0</td>\n",
       "      <td>1000</td>\n",
       "      <td>1</td>\n",
       "      <td>1</td>\n",
       "      <td>2.0625</td>\n",
       "      <td>PPO</td>\n",
       "    </tr>\n",
       "  </tbody>\n",
       "</table>\n",
       "</div>"
      ],
      "text/plain": [
       "   test_id  checkpoint  workload_id  experiments  episode_length  \\\n",
       "0        0         100            0            0              10   \n",
       "1        1         100            0            0             200   \n",
       "2        2         100            0            0            1000   \n",
       "\n",
       "   num_episodes  penalalty_consolidated  num_consolidated_test_average  \\\n",
       "0             1                       1                         2.5000   \n",
       "1             1                       1                         2.0625   \n",
       "2             1                       1                         2.0625   \n",
       "\n",
       "  test_types  \n",
       "0        PPO  \n",
       "1        PPO  \n",
       "2        PPO  "
      ]
     },
     "execution_count": 5,
     "metadata": {},
     "output_type": "execute_result"
    }
   ],
   "source": [
    "final_stats_df"
   ]
  },
  {
   "cell_type": "code",
   "execution_count": 39,
   "metadata": {},
   "outputs": [
    {
     "data": {
      "text/html": [
       "<div>\n",
       "<style scoped>\n",
       "    .dataframe tbody tr th:only-of-type {\n",
       "        vertical-align: middle;\n",
       "    }\n",
       "\n",
       "    .dataframe tbody tr th {\n",
       "        vertical-align: top;\n",
       "    }\n",
       "\n",
       "    .dataframe thead th {\n",
       "        text-align: right;\n",
       "    }\n",
       "</style>\n",
       "<table border=\"1\" class=\"dataframe\">\n",
       "  <thead>\n",
       "    <tr style=\"text-align: right;\">\n",
       "      <th></th>\n",
       "      <th>test_id</th>\n",
       "      <th>checkpoint</th>\n",
       "      <th>workload_id</th>\n",
       "      <th>experiments</th>\n",
       "      <th>episode_length</th>\n",
       "      <th>num_episodes</th>\n",
       "      <th>penalalty_consolidated</th>\n",
       "      <th>num_consolidated_test_average</th>\n",
       "      <th>test_types</th>\n",
       "    </tr>\n",
       "  </thead>\n",
       "  <tbody>\n",
       "    <tr>\n",
       "      <th>0</th>\n",
       "      <td>0</td>\n",
       "      <td>100</td>\n",
       "      <td>0</td>\n",
       "      <td>0</td>\n",
       "      <td>10</td>\n",
       "      <td>1</td>\n",
       "      <td>1</td>\n",
       "      <td>2.5</td>\n",
       "      <td>PPO</td>\n",
       "    </tr>\n",
       "  </tbody>\n",
       "</table>\n",
       "</div>"
      ],
      "text/plain": [
       "   test_id  checkpoint  workload_id  experiments  episode_length  \\\n",
       "0        0         100            0            0              10   \n",
       "\n",
       "   num_episodes  penalalty_consolidated  num_consolidated_test_average  \\\n",
       "0             1                       1                            2.5   \n",
       "\n",
       "  test_types  \n",
       "0        PPO  "
      ]
     },
     "execution_count": 39,
     "metadata": {},
     "output_type": "execute_result"
    }
   ],
   "source": [
    "final_stats_df[\n",
    "    # (final_stats_df['network_id'] == 1) &\\\n",
    "        (final_stats_df['num_consolidated_test_average'] == 2.5)]"
   ]
  },
  {
   "cell_type": "markdown",
   "metadata": {},
   "source": [
    "# compare tests - plots"
   ]
  },
  {
   "cell_type": "markdown",
   "metadata": {},
   "source": []
  },
  {
   "cell_type": "code",
   "execution_count": 41,
   "metadata": {},
   "outputs": [],
   "source": [
    "# TODO decide about plots and then make it based on https://github.com/saeid93/mobile-kube/blob/main/experiments/analysis/analysis_test_70-(final).ipynb"
   ]
  },
  {
   "cell_type": "code",
   "execution_count": null,
   "metadata": {},
   "outputs": [],
   "source": []
  }
 ],
 "metadata": {
  "interpreter": {
   "hash": "0e2adeafa4d8ea8b56364dfeb24ca99374007784e59d4b40ac8f07b769210312"
  },
  "kernelspec": {
   "display_name": "Python 3.8.0 64-bit ('central': conda)",
   "language": "python",
   "name": "python3"
  },
  "language_info": {
   "codemirror_mode": {
    "name": "ipython",
    "version": 3
   },
   "file_extension": ".py",
   "mimetype": "text/x-python",
   "name": "python",
   "nbconvert_exporter": "python",
   "pygments_lexer": "ipython3",
   "version": "3.8.0"
  },
  "orig_nbformat": 4
 },
 "nbformat": 4,
 "nbformat_minor": 2
}
