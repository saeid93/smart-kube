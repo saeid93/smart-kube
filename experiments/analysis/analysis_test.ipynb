{
 "cells": [
  {
   "cell_type": "markdown",
   "metadata": {},
   "source": [
    "# Load the tests to compare"
   ]
  },
  {
   "cell_type": "code",
   "execution_count": 8,
   "metadata": {},
   "outputs": [
    {
     "name": "stdout",
     "output_type": "stream",
     "text": [
      "availeble tests:\n",
      " [0, 1, 2, 3, 4, 5, 6, 7, 8, 9, 10, 11]\n",
      "tests_types:\n",
      " ['DQN', 'DQN', 'DQN', 'IMPALA', 'IMPALA', 'IMPALA', 'PG', 'PG', 'PG', 'PPO', 'PPO', 'PPO']\n"
     ]
    }
   ],
   "source": [
    "%matplotlib inline\n",
    "import os\n",
    "import sys\n",
    "import json\n",
    "import pickle\n",
    "import pandas as pd\n",
    "\n",
    "# get an absolute path to the directory that contains parent files\n",
    "project_dir = globals()['_dh'][0]\n",
    "sys.path.append(os.path.normpath(os.path.join(project_dir, '..', '..')))\n",
    "\n",
    "from experiments.utils.constants import TESTS_RESULTS_PATH\n",
    "series = 13\n",
    "start_test = 0\n",
    "end_test = 12\n",
    "tests_ids = [i for i in range(start_test, end_test)]\n",
    "tests_names = [i for i in range(start_test, end_test)]\n",
    "\n",
    "tests = {}\n",
    "\n",
    "\n",
    "for test_id, test_name in zip(tests_ids, tests_names):\n",
    "    test_path = os.path.join(\n",
    "        TESTS_RESULTS_PATH,\n",
    "        'series',\n",
    "        str(series),\n",
    "        'tests',\n",
    "        str(test_id))\n",
    "    with open(os.path.join(test_path, 'info.json')) as cf:\n",
    "        info = json.loads(cf.read())\n",
    "    with open(os.path.join(test_path, 'episodes.pickle'), 'rb') as input_file:\n",
    "        episodes = pickle.load(input_file)\n",
    "    tests.update({test_name: {\n",
    "        'info': info,\n",
    "        'episodes': episodes\n",
    "    }})\n",
    "test_types = [test['info']['algorithm'] for _, test in tests.items()]\n",
    "print(\"availeble tests:\\n {}\\ntests_types:\\n {}\".format(\n",
    "    list(tests.keys()),\n",
    "    test_types))"
   ]
  },
  {
   "cell_type": "markdown",
   "metadata": {},
   "source": [
    "# All Stats of a test"
   ]
  },
  {
   "cell_type": "code",
   "execution_count": 9,
   "metadata": {},
   "outputs": [
    {
     "name": "stdout",
     "output_type": "stream",
     "text": [
      "tests entry structure:\n",
      "dict_keys(['info', 'episodes'])\n",
      "tests entry info structure:\n",
      "dict_keys(['type_env', 'series', 'cluster_id', 'workload_id', 'checkpoint', 'experiment_str', 'experiments', 'episode_length', 'num_episodes', 'algorithm', 'penalty_consolidated', 'num_workers'])\n",
      "tests entry episodes info:\n",
      "Index(['action', 'raw_obs', 'num_consolidated', 'num_overloaded',\n",
      "       'scheduling_timestep', 'scheduling_success', 'reward_illegal',\n",
      "       'reward_u', 'reward_c', 'reward_cv', 'reward_v', 'reward_g', 'reward_p',\n",
      "       'u', 'c', 'cv', 'v', 'g', 'p', 'reward'],\n",
      "      dtype='object')\n"
     ]
    }
   ],
   "source": [
    "test_id = 0\n",
    "episdoe_id = 0\n",
    "print(f'tests entry structure:\\n{tests[test_id].keys()}')\n",
    "print(f\"tests entry info structure:\\n{tests[test_id]['info'].keys()}\")\n",
    "print(f\"tests entry episodes info:\\n{tests[test_id]['episodes'][episdoe_id].columns}\")"
   ]
  },
  {
   "cell_type": "markdown",
   "metadata": {},
   "source": [
    "# Extracting necessary stats of all tests"
   ]
  },
  {
   "cell_type": "code",
   "execution_count": 10,
   "metadata": {},
   "outputs": [],
   "source": [
    "final_stats = []\n",
    "for test_id in range(start_test, end_test):\n",
    "    # TODO check for correctness\n",
    "    num_consolidated_episodes_average = [episode['num_consolidated'].mean() for episode in tests[test_id]['episodes']]\n",
    "    num_consolidated_test_average = sum(num_consolidated_episodes_average) / len(num_consolidated_episodes_average)\n",
    "\n",
    "    num_overloaded_episodes_average = [episode['num_overloaded'].mean() for episode in tests[test_id]['episodes']]\n",
    "    num_overloaded_test_average = sum(num_overloaded_episodes_average) / len(num_overloaded_episodes_average)\n",
    "\n",
    "    scheduling_success_episodes_average = [episode['scheduling_success'].mean() for episode in tests[test_id]['episodes']]\n",
    "    scheduling_success_test_average = sum(scheduling_success_episodes_average) / len(scheduling_success_episodes_average)\n",
    "\n",
    "    reward_illegal_episodes_average = [episode['reward_illegal'].mean() for episode in tests[test_id]['episodes']]\n",
    "    reward_illegal_test_average = sum(reward_illegal_episodes_average) / len(reward_illegal_episodes_average)\n",
    "\n",
    "    reward_u_episodes_average = [episode['reward_u'].mean() for episode in tests[test_id]['episodes']]\n",
    "    reward_u_test_average = sum(reward_u_episodes_average) / len(reward_u_episodes_average)\n",
    "\n",
    "    reward_c_episodes_average = [episode['reward_c'].mean() for episode in tests[test_id]['episodes']]\n",
    "    reward_c_test_average = sum(reward_c_episodes_average) / len(reward_c_episodes_average)\n",
    "\n",
    "    reward_v_episodes_average = [episode['reward_v'].mean() for episode in tests[test_id]['episodes']]\n",
    "    reward_v_test_average = sum(reward_v_episodes_average) / len(reward_v_episodes_average)\n",
    "\n",
    "    reward_g_episodes_average = [episode['reward_g'].mean() for episode in tests[test_id]['episodes']]\n",
    "    reward_g_test_average = sum(reward_g_episodes_average) / len(reward_g_episodes_average)\n",
    "\n",
    "    reward_p_episodes_average = [episode['reward_p'].mean() for episode in tests[test_id]['episodes']]\n",
    "    reward_p_test_average = sum(reward_p_episodes_average) / len(reward_p_episodes_average)\n",
    "\n",
    "    cv_episodes_average = [episode['cv'].mean() for episode in tests[test_id]['episodes']]\n",
    "    cv_test_average = sum(cv_episodes_average) / len(cv_episodes_average)\n",
    "\n",
    "    reward_episodes_average = [episode['reward'].mean() for episode in tests[test_id]['episodes']]\n",
    "    reward_test_average = sum(reward_episodes_average) / len(reward_episodes_average)\n",
    "\n",
    "\n",
    "    final_stats.append({\n",
    "        'test_id': test_id,\n",
    "        'checkpoint': tests[test_id]['info']['checkpoint'],\n",
    "        # TODO where is workload id\n",
    "        'workload_id': tests[test_id]['info']['workload_id'],\n",
    "        'experiments': tests[test_id]['info']['experiments'],\n",
    "        'episode_length': tests[test_id]['info']['episode_length'],\n",
    "        'num_episodes': tests[test_id]['info']['num_episodes'],\n",
    "        'penalalty_consolidated': tests[test_id]['info']['penalty_consolidated'],\n",
    "        'consolidated': num_consolidated_test_average,\n",
    "        'variance': cv_test_average\n",
    "    })\n",
    "\n",
    "final_stats_df = pd.DataFrame(final_stats)\n",
    "final_stats_df['test_types'] = test_types\n",
    "# final_stats_df.loc[df['penalalty_consolidated']]\n",
    "\n",
    "# TODO add the following information to the table (from the info.json file)\n",
    "# - penatly_latency\n",
    "# - penalty_conslidation"
   ]
  },
  {
   "cell_type": "code",
   "execution_count": 4,
   "metadata": {},
   "outputs": [
    {
     "data": {
      "text/plain": [
       "{'type_env': 'sim-scheduler',\n",
       " 'series': 76,\n",
       " 'cluster_id': 13,\n",
       " 'workload_id': 0,\n",
       " 'checkpoint': 200,\n",
       " 'experiment_str': 'DQN_SimSchedulerEnv_2c3b3_00000_0_2023-01-28_22-43-24',\n",
       " 'experiments': 0,\n",
       " 'episode_length': 1000,\n",
       " 'num_episodes': 5,\n",
       " 'algorithm': 'DQN',\n",
       " 'penalty_consolidated': 1,\n",
       " 'num_workers': 4}"
      ]
     },
     "execution_count": 4,
     "metadata": {},
     "output_type": "execute_result"
    }
   ],
   "source": [
    "test_id = 0\n",
    "tests[test_id]['info']"
   ]
  },
  {
   "cell_type": "markdown",
   "metadata": {},
   "source": [
    "# compare tests - tables"
   ]
  },
  {
   "cell_type": "code",
   "execution_count": 5,
   "metadata": {},
   "outputs": [
    {
     "data": {
      "text/html": [
       "<div>\n",
       "<style scoped>\n",
       "    .dataframe tbody tr th:only-of-type {\n",
       "        vertical-align: middle;\n",
       "    }\n",
       "\n",
       "    .dataframe tbody tr th {\n",
       "        vertical-align: top;\n",
       "    }\n",
       "\n",
       "    .dataframe thead th {\n",
       "        text-align: right;\n",
       "    }\n",
       "</style>\n",
       "<table border=\"1\" class=\"dataframe\">\n",
       "  <thead>\n",
       "    <tr style=\"text-align: right;\">\n",
       "      <th></th>\n",
       "      <th>test_id</th>\n",
       "      <th>checkpoint</th>\n",
       "      <th>workload_id</th>\n",
       "      <th>experiments</th>\n",
       "      <th>episode_length</th>\n",
       "      <th>num_episodes</th>\n",
       "      <th>penalalty_consolidated</th>\n",
       "      <th>consolidated</th>\n",
       "      <th>variance</th>\n",
       "      <th>test_types</th>\n",
       "    </tr>\n",
       "  </thead>\n",
       "  <tbody>\n",
       "    <tr>\n",
       "      <th>0</th>\n",
       "      <td>1</td>\n",
       "      <td>200</td>\n",
       "      <td>0</td>\n",
       "      <td>1</td>\n",
       "      <td>1000</td>\n",
       "      <td>5</td>\n",
       "      <td>0</td>\n",
       "      <td>0.206451</td>\n",
       "      <td>0.001838</td>\n",
       "      <td>DQN</td>\n",
       "    </tr>\n",
       "    <tr>\n",
       "      <th>1</th>\n",
       "      <td>2</td>\n",
       "      <td>200</td>\n",
       "      <td>0</td>\n",
       "      <td>2</td>\n",
       "      <td>1000</td>\n",
       "      <td>5</td>\n",
       "      <td>1</td>\n",
       "      <td>2.449508</td>\n",
       "      <td>0.005825</td>\n",
       "      <td>DQN</td>\n",
       "    </tr>\n",
       "    <tr>\n",
       "      <th>2</th>\n",
       "      <td>0</td>\n",
       "      <td>200</td>\n",
       "      <td>0</td>\n",
       "      <td>0</td>\n",
       "      <td>1000</td>\n",
       "      <td>5</td>\n",
       "      <td>1</td>\n",
       "      <td>2.632111</td>\n",
       "      <td>0.005845</td>\n",
       "      <td>DQN</td>\n",
       "    </tr>\n",
       "    <tr>\n",
       "      <th>3</th>\n",
       "      <td>4</td>\n",
       "      <td>132</td>\n",
       "      <td>0</td>\n",
       "      <td>1</td>\n",
       "      <td>1000</td>\n",
       "      <td>5</td>\n",
       "      <td>0</td>\n",
       "      <td>0.209439</td>\n",
       "      <td>0.002145</td>\n",
       "      <td>IMPALA</td>\n",
       "    </tr>\n",
       "    <tr>\n",
       "      <th>4</th>\n",
       "      <td>5</td>\n",
       "      <td>130</td>\n",
       "      <td>0</td>\n",
       "      <td>2</td>\n",
       "      <td>1000</td>\n",
       "      <td>5</td>\n",
       "      <td>1</td>\n",
       "      <td>0.312756</td>\n",
       "      <td>0.002012</td>\n",
       "      <td>IMPALA</td>\n",
       "    </tr>\n",
       "    <tr>\n",
       "      <th>5</th>\n",
       "      <td>3</td>\n",
       "      <td>126</td>\n",
       "      <td>0</td>\n",
       "      <td>0</td>\n",
       "      <td>1000</td>\n",
       "      <td>5</td>\n",
       "      <td>1</td>\n",
       "      <td>3.002299</td>\n",
       "      <td>0.005942</td>\n",
       "      <td>IMPALA</td>\n",
       "    </tr>\n",
       "    <tr>\n",
       "      <th>6</th>\n",
       "      <td>6</td>\n",
       "      <td>1124</td>\n",
       "      <td>0</td>\n",
       "      <td>0</td>\n",
       "      <td>1000</td>\n",
       "      <td>5</td>\n",
       "      <td>1</td>\n",
       "      <td>3.002299</td>\n",
       "      <td>0.005942</td>\n",
       "      <td>PG</td>\n",
       "    </tr>\n",
       "    <tr>\n",
       "      <th>7</th>\n",
       "      <td>7</td>\n",
       "      <td>1123</td>\n",
       "      <td>0</td>\n",
       "      <td>1</td>\n",
       "      <td>1000</td>\n",
       "      <td>5</td>\n",
       "      <td>0</td>\n",
       "      <td>3.002299</td>\n",
       "      <td>0.005942</td>\n",
       "      <td>PG</td>\n",
       "    </tr>\n",
       "    <tr>\n",
       "      <th>8</th>\n",
       "      <td>8</td>\n",
       "      <td>1124</td>\n",
       "      <td>0</td>\n",
       "      <td>2</td>\n",
       "      <td>1000</td>\n",
       "      <td>5</td>\n",
       "      <td>1</td>\n",
       "      <td>3.002299</td>\n",
       "      <td>0.005942</td>\n",
       "      <td>PG</td>\n",
       "    </tr>\n",
       "    <tr>\n",
       "      <th>9</th>\n",
       "      <td>10</td>\n",
       "      <td>1702</td>\n",
       "      <td>0</td>\n",
       "      <td>1</td>\n",
       "      <td>1000</td>\n",
       "      <td>5</td>\n",
       "      <td>0</td>\n",
       "      <td>0.285556</td>\n",
       "      <td>0.000997</td>\n",
       "      <td>PPO</td>\n",
       "    </tr>\n",
       "    <tr>\n",
       "      <th>10</th>\n",
       "      <td>11</td>\n",
       "      <td>1703</td>\n",
       "      <td>0</td>\n",
       "      <td>2</td>\n",
       "      <td>1000</td>\n",
       "      <td>5</td>\n",
       "      <td>1</td>\n",
       "      <td>1.196594</td>\n",
       "      <td>0.004445</td>\n",
       "      <td>PPO</td>\n",
       "    </tr>\n",
       "    <tr>\n",
       "      <th>11</th>\n",
       "      <td>9</td>\n",
       "      <td>1711</td>\n",
       "      <td>0</td>\n",
       "      <td>0</td>\n",
       "      <td>1000</td>\n",
       "      <td>5</td>\n",
       "      <td>1</td>\n",
       "      <td>3.002299</td>\n",
       "      <td>0.005942</td>\n",
       "      <td>PPO</td>\n",
       "    </tr>\n",
       "  </tbody>\n",
       "</table>\n",
       "</div>"
      ],
      "text/plain": [
       "    test_id  checkpoint  workload_id  experiments  episode_length  \\\n",
       "0         1         200            0            1            1000   \n",
       "1         2         200            0            2            1000   \n",
       "2         0         200            0            0            1000   \n",
       "3         4         132            0            1            1000   \n",
       "4         5         130            0            2            1000   \n",
       "5         3         126            0            0            1000   \n",
       "6         6        1124            0            0            1000   \n",
       "7         7        1123            0            1            1000   \n",
       "8         8        1124            0            2            1000   \n",
       "9        10        1702            0            1            1000   \n",
       "10       11        1703            0            2            1000   \n",
       "11        9        1711            0            0            1000   \n",
       "\n",
       "    num_episodes  penalalty_consolidated  consolidated  variance test_types  \n",
       "0              5                       0      0.206451  0.001838        DQN  \n",
       "1              5                       1      2.449508  0.005825        DQN  \n",
       "2              5                       1      2.632111  0.005845        DQN  \n",
       "3              5                       0      0.209439  0.002145     IMPALA  \n",
       "4              5                       1      0.312756  0.002012     IMPALA  \n",
       "5              5                       1      3.002299  0.005942     IMPALA  \n",
       "6              5                       1      3.002299  0.005942         PG  \n",
       "7              5                       0      3.002299  0.005942         PG  \n",
       "8              5                       1      3.002299  0.005942         PG  \n",
       "9              5                       0      0.285556  0.000997        PPO  \n",
       "10             5                       1      1.196594  0.004445        PPO  \n",
       "11             5                       1      3.002299  0.005942        PPO  "
      ]
     },
     "execution_count": 5,
     "metadata": {},
     "output_type": "execute_result"
    }
   ],
   "source": [
    "final_stats_df = final_stats_df.sort_values(by=['test_types', 'consolidated']).reset_index(drop=True)\n",
    "final_stats_df"
   ]
  },
  {
   "cell_type": "markdown",
   "metadata": {},
   "source": [
    "# compare tests - plots"
   ]
  },
  {
   "cell_type": "markdown",
   "metadata": {},
   "source": []
  },
  {
   "cell_type": "code",
   "execution_count": 31,
   "metadata": {},
   "outputs": [
    {
     "name": "stdout",
     "output_type": "stream",
     "text": [
      "                 IMPALA       PPO       DQN\n",
      "mode                                       \n",
      "Consolidation  0.005942  0.005942  0.005845\n",
      "Variance       0.002145  0.000997  0.001838\n",
      "Balance        0.002012  0.004445  0.005825\n"
     ]
    },
    {
     "data": {
      "image/png": "[encoded data removed]",
      "text/plain": [
       "<Figure size 432x288 with 1 Axes>"
      ]
     },
     "metadata": {
      "needs_background": "light"
     },
     "output_type": "display_data"
    }
   ],
   "source": [
    "num_algorithms  = 3\n",
    "# algorithms = ['IMPALA', 'PG', 'PPO', 'DQN']\n",
    "algorithms = ['IMPALA', 'PPO', 'DQN']\n",
    "modes = ['Consolidation', 'Variance', 'Balance']\n",
    "# df_to_plot = pd.DataFrame([], columns=['mode', 'IMPALA', 'PG', 'PPO', 'DQN'])\n",
    "df_to_plot = pd.DataFrame([], columns=['mode', 'IMPALA', 'PPO', 'DQN'])\n",
    "for modulo, mode in zip(range(num_algorithms), modes):\n",
    "    mode_val = final_stats_df[\n",
    "        (final_stats_df.index % num_algorithms == modulo)][['variance', 'test_types']]\n",
    "    data = {'mode': [mode]}\n",
    "    for alg in algorithms:\n",
    "        value = mode_val[mode_val['test_types'] == alg]['variance'].tolist()[0]\n",
    "        data.update({alg: [value]})\n",
    "    selected = pd.DataFrame(data)\n",
    "    df_to_plot = df_to_plot.append(selected)\n",
    "df_to_plot.set_index('mode', inplace=True)\n",
    "print(df_to_plot)\n",
    "\n",
    "import matplotlib.pyplot as plt\n",
    "df_to_plot.plot(kind='bar')\n",
    "plt.title(\"Average Scheduling Variance\")\n",
    "plt.xlabel(\"Priority\")\n",
    "plt.ylabel(\"Variance\")\n",
    "# plt.xticks(rotation=90)\n",
    "# plt.legend(loc='center left', bbox_to_anchor=(1, 0.5))\n",
    "plt.savefig('test-v.pdf')"
   ]
  },
  {
   "cell_type": "code",
   "execution_count": 32,
   "metadata": {},
   "outputs": [
    {
     "name": "stdout",
     "output_type": "stream",
     "text": [
      "                 IMPALA       PPO       DQN\n",
      "mode                                       \n",
      "Consolidation  3.002299  3.002299  2.632111\n",
      "Variance       0.209439  0.285556  0.206451\n",
      "Balance        0.312756  1.196594  2.449508\n"
     ]
    },
    {
     "data": {
      "image/png": "[encoded data removed]",
      "text/plain": [
       "<Figure size 432x288 with 1 Axes>"
      ]
     },
     "metadata": {
      "needs_background": "light"
     },
     "output_type": "display_data"
    }
   ],
   "source": [
    "num_algorithms  = 3\n",
    "# algorithms = ['IMPALA', 'PG', 'PPO', 'DQN']\n",
    "algorithms = ['IMPALA', 'PPO', 'DQN']\n",
    "# modes = ['Consolidation', 'Variance', 'Balance']\n",
    "# df_to_plot = pd.DataFrame([], columns=['mode', 'IMPALA', 'PG', 'PPO', 'DQN'])\n",
    "df_to_plot = pd.DataFrame([], columns=['mode', 'IMPALA', 'PPO', 'DQN'])\n",
    "for modulo, mode in zip(range(num_algorithms), modes):\n",
    "    mode_val = final_stats_df[\n",
    "        (final_stats_df.index % num_algorithms == modulo)][['consolidated', 'test_types']]\n",
    "    data = {'mode': [mode]}\n",
    "    for alg in algorithms:\n",
    "        value = mode_val[mode_val['test_types'] == alg]['consolidated'].tolist()[0]\n",
    "        data.update({alg: [value]})\n",
    "    selected = pd.DataFrame(data)\n",
    "    df_to_plot = df_to_plot.append(selected)\n",
    "df_to_plot.set_index('mode', inplace=True)\n",
    "print(df_to_plot)\n",
    "\n",
    "import matplotlib.pyplot as plt\n",
    "df_to_plot.plot(kind='bar')\n",
    "plt.title(\"Average Number of Consolidated Servers\")\n",
    "plt.xlabel(\"Priority\")\n",
    "plt.ylabel(\"Consolidated\")\n",
    "# plt.legend(loc='center left', bbox_to_anchor=(1, 0.5))\n",
    "plt.savefig('test-p.pdf')"
   ]
  },
  {
   "cell_type": "code",
   "execution_count": null,
   "metadata": {},
   "outputs": [
    {
     "data": {
      "text/html": [
       "<div>\n",
       "<style scoped>\n",
       "    .dataframe tbody tr th:only-of-type {\n",
       "        vertical-align: middle;\n",
       "    }\n",
       "\n",
       "    .dataframe tbody tr th {\n",
       "        vertical-align: top;\n",
       "    }\n",
       "\n",
       "    .dataframe thead th {\n",
       "        text-align: right;\n",
       "    }\n",
       "</style>\n",
       "<table border=\"1\" class=\"dataframe\">\n",
       "  <thead>\n",
       "    <tr style=\"text-align: right;\">\n",
       "      <th></th>\n",
       "      <th>0</th>\n",
       "      <th>1</th>\n",
       "      <th>2</th>\n",
       "    </tr>\n",
       "  </thead>\n",
       "  <tbody>\n",
       "    <tr>\n",
       "      <th>variance</th>\n",
       "      <td>0.001198</td>\n",
       "      <td>0.001086</td>\n",
       "      <td>0.001127</td>\n",
       "    </tr>\n",
       "    <tr>\n",
       "      <th>test_types</th>\n",
       "      <td>IMPALA</td>\n",
       "      <td>PG</td>\n",
       "      <td>PPO</td>\n",
       "    </tr>\n",
       "  </tbody>\n",
       "</table>\n",
       "</div>"
      ],
      "text/plain": [
       "                   0         1         2\n",
       "variance    0.001198  0.001086  0.001127\n",
       "test_types    IMPALA        PG       PPO"
      ]
     },
     "execution_count": 65,
     "metadata": {},
     "output_type": "execute_result"
    }
   ],
   "source": []
  },
  {
   "cell_type": "code",
   "execution_count": null,
   "metadata": {},
   "outputs": [],
   "source": []
  }
 ],
 "metadata": {
  "kernelspec": {
   "display_name": "Python 3.8.0 64-bit",
   "language": "python",
   "name": "python3"
  },
  "language_info": {
   "codemirror_mode": {
    "name": "ipython",
    "version": 3
   },
   "file_extension": ".py",
   "mimetype": "text/x-python",
   "name": "python",
   "nbconvert_exporter": "python",
   "pygments_lexer": "ipython3",
   "version": "3.8.0"
  },
  "orig_nbformat": 4,
  "vscode": {
   "interpreter": {
    "hash": "0e2adeafa4d8ea8b56364dfeb24ca99374007784e59d4b40ac8f07b769210312"
   }
  }
 },
 "nbformat": 4,
 "nbformat_minor": 2
}
