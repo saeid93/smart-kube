{
 "cells": [
  {
   "cell_type": "markdown",
   "metadata": {},
   "source": [
    "# Load the tests to compare"
   ]
  },
  {
   "cell_type": "code",
   "execution_count": 6,
   "metadata": {},
   "outputs": [
    {
     "name": "stdout",
     "output_type": "stream",
     "text": [
      "availeble tests:\n",
      " [0, 1, 2, 3, 4, 5, 6, 7, 8, 9, 10, 11, 12, 13, 14, 15, 16, 17]\n",
      "tests_types:\n",
      " ['DQN', 'DQN', 'DQN', 'DQN', 'DQN', 'DQN', 'DQN', 'DQN', 'DQN', 'DQN', 'DQN', 'DQN', 'DQN', 'DQN', 'DQN', 'DQN', 'DQN', 'DQN']\n"
     ]
    }
   ],
   "source": [
    "%matplotlib inline\n",
    "import os\n",
    "import sys\n",
    "import json\n",
    "import pickle\n",
    "import pandas as pd\n",
    "\n",
    "# get an absolute path to the directory that contains parent files\n",
    "project_dir = globals()['_dh'][0]\n",
    "sys.path.append(os.path.normpath(os.path.join(project_dir, '..', '..')))\n",
    "\n",
    "from experiments.utils.constants import TESTS_RESULTS_PATH\n",
    "series = 22\n",
    "start_test = 0\n",
    "end_test = 18\n",
    "tests_ids = [i for i in range(start_test, end_test)]\n",
    "tests_names = [i for i in range(start_test, end_test)]\n",
    "\n",
    "tests = {}\n",
    "\n",
    "\n",
    "for test_id, test_name in zip(tests_ids, tests_names):\n",
    "    test_path = os.path.join(\n",
    "        TESTS_RESULTS_PATH,\n",
    "        'series',\n",
    "        str(series),\n",
    "        'tests',\n",
    "        str(test_id))\n",
    "    with open(os.path.join(test_path, 'info.json')) as cf:\n",
    "        info = json.loads(cf.read())\n",
    "    with open(os.path.join(test_path, 'episodes.pickle'), 'rb') as input_file:\n",
    "        episodes = pickle.load(input_file)\n",
    "    tests.update({test_name: {\n",
    "        'info': info,\n",
    "        'episodes': episodes\n",
    "    }})\n",
    "test_types = [test['info']['algorithm'] for _, test in tests.items()]\n",
    "print(\"availeble tests:\\n {}\\ntests_types:\\n {}\".format(\n",
    "    list(tests.keys()),\n",
    "    test_types))"
   ]
  },
  {
   "cell_type": "markdown",
   "metadata": {},
   "source": [
    "# All Stats of a test"
   ]
  },
  {
   "cell_type": "code",
   "execution_count": 7,
   "metadata": {},
   "outputs": [
    {
     "name": "stdout",
     "output_type": "stream",
     "text": [
      "tests entry structure:\n",
      "dict_keys(['info', 'episodes'])\n",
      "tests entry info structure:\n",
      "dict_keys(['type_env', 'series', 'cluster_id', 'workload_id', 'workload_id_test', 'checkpoint', 'experiment_str', 'experiments', 'episode_length', 'num_episodes', 'algorithm', 'penalty_consolidated', 'num_workers'])\n",
      "tests entry episodes info:\n",
      "Index(['action', 'raw_obs', 'num_consolidated', 'num_overloaded',\n",
      "       'scheduling_timestep', 'scheduling_success', 'reward_illegal',\n",
      "       'reward_u', 'reward_c', 'reward_cv', 'reward_v', 'reward_g', 'reward_p',\n",
      "       'u', 'c', 'cv', 'v', 'g', 'p', 'reward'],\n",
      "      dtype='object')\n"
     ]
    }
   ],
   "source": [
    "test_id = 0\n",
    "episdoe_id = 0\n",
    "print(f'tests entry structure:\\n{tests[test_id].keys()}')\n",
    "print(f\"tests entry info structure:\\n{tests[test_id]['info'].keys()}\")\n",
    "print(f\"tests entry episodes info:\\n{tests[test_id]['episodes'][episdoe_id].columns}\")"
   ]
  },
  {
   "cell_type": "markdown",
   "metadata": {},
   "source": [
    "# Extracting necessary stats of all tests"
   ]
  },
  {
   "cell_type": "code",
   "execution_count": 8,
   "metadata": {},
   "outputs": [],
   "source": [
    "final_stats = []\n",
    "for test_id in range(start_test, end_test):\n",
    "    # TODO check for correctness\n",
    "    num_consolidated_episodes_average = [episode['num_consolidated'].mean() for episode in tests[test_id]['episodes']]\n",
    "    num_consolidated_test_average = sum(num_consolidated_episodes_average) / len(num_consolidated_episodes_average)\n",
    "\n",
    "    num_overloaded_episodes_average = [episode['num_overloaded'].mean() for episode in tests[test_id]['episodes']]\n",
    "    num_overloaded_test_average = sum(num_overloaded_episodes_average) / len(num_overloaded_episodes_average)\n",
    "\n",
    "    scheduling_success_episodes_average = [episode['scheduling_success'].mean() for episode in tests[test_id]['episodes']]\n",
    "    scheduling_success_test_average = sum(scheduling_success_episodes_average) / len(scheduling_success_episodes_average)\n",
    "\n",
    "    reward_illegal_episodes_average = [episode['reward_illegal'].mean() for episode in tests[test_id]['episodes']]\n",
    "    reward_illegal_test_average = sum(reward_illegal_episodes_average) / len(reward_illegal_episodes_average)\n",
    "\n",
    "    reward_u_episodes_average = [episode['reward_u'].mean() for episode in tests[test_id]['episodes']]\n",
    "    reward_u_test_average = sum(reward_u_episodes_average) / len(reward_u_episodes_average)\n",
    "\n",
    "    reward_c_episodes_average = [episode['reward_c'].mean() for episode in tests[test_id]['episodes']]\n",
    "    reward_c_test_average = sum(reward_c_episodes_average) / len(reward_c_episodes_average)\n",
    "\n",
    "    reward_c_episodes_average = [episode['reward_cv'].mean() for episode in tests[test_id]['episodes']]\n",
    "    reward_c_test_average = sum(reward_c_episodes_average) / len(reward_c_episodes_average)\n",
    "\n",
    "    reward_v_episodes_average = [episode['reward_v'].mean() for episode in tests[test_id]['episodes']]\n",
    "    reward_v_test_average = sum(reward_v_episodes_average) / len(reward_v_episodes_average)\n",
    "\n",
    "    reward_g_episodes_average = [episode['reward_g'].mean() for episode in tests[test_id]['episodes']]\n",
    "    reward_g_test_average = sum(reward_g_episodes_average) / len(reward_g_episodes_average)\n",
    "\n",
    "    reward_p_episodes_average = [episode['reward_p'].mean() for episode in tests[test_id]['episodes']]\n",
    "    reward_p_test_average = sum(reward_p_episodes_average) / len(reward_p_episodes_average)\n",
    "\n",
    "    cv_episodes_average = [episode['cv'].mean() for episode in tests[test_id]['episodes']]\n",
    "    cv_test_average = sum(cv_episodes_average) / len(cv_episodes_average)\n",
    "\n",
    "    reward_episodes_average = [episode['reward'].mean() for episode in tests[test_id]['episodes']]\n",
    "    reward_test_average = sum(reward_episodes_average) / len(reward_episodes_average)\n",
    "\n",
    "\n",
    "    final_stats.append({\n",
    "        'test_id': test_id,\n",
    "        'checkpoint': tests[test_id]['info']['checkpoint'],\n",
    "        # TODO where is workload id\n",
    "        'cluster_id': tests[test_id]['info']['cluster_id'],\n",
    "        'workload_id': tests[test_id]['info']['workload_id'],\n",
    "        'workload_id_test': tests[test_id]['info']['workload_id_test'],\n",
    "        'experiments': tests[test_id]['info']['experiments'],\n",
    "        'episode_length': tests[test_id]['info']['episode_length'],\n",
    "        'num_episodes': tests[test_id]['info']['num_episodes'],\n",
    "        'penalalty_consolidated': tests[test_id]['info']['penalty_consolidated'],\n",
    "        'consolidated': num_consolidated_test_average,\n",
    "        'reward_g_test_average': reward_g_test_average,\n",
    "        'reward_u_test_average': reward_u_test_average,\n",
    "        'variance': cv_test_average\n",
    "    })\n",
    "\n",
    "final_stats_df = pd.DataFrame(final_stats)\n",
    "final_stats_df['test_types'] = test_types\n",
    "# final_stats_df.loc[df['penalalty_consolidated']]\n",
    "\n",
    "# TODO add the following information to the table (from the info.json file)\n",
    "# - penatly_latency\n",
    "# - penalty_conslidation"
   ]
  },
  {
   "cell_type": "code",
   "execution_count": 9,
   "metadata": {},
   "outputs": [
    {
     "data": {
      "text/plain": [
       "{'type_env': 'sim-scheduler',\n",
       " 'series': 121,\n",
       " 'cluster_id': 18,\n",
       " 'workload_id': 0,\n",
       " 'workload_id_test': 3,\n",
       " 'checkpoint': 300,\n",
       " 'experiment_str': 'DQN_SimSchedulerEnv_4b07c_00000_0_2023-02-16_22-57-31',\n",
       " 'experiments': 2,\n",
       " 'episode_length': 1000,\n",
       " 'num_episodes': 5,\n",
       " 'algorithm': 'DQN',\n",
       " 'penalty_consolidated': 1,\n",
       " 'num_workers': 4}"
      ]
     },
     "execution_count": 9,
     "metadata": {},
     "output_type": "execute_result"
    }
   ],
   "source": [
    "test_id = 2\n",
    "tests[test_id]['info']"
   ]
  },
  {
   "cell_type": "markdown",
   "metadata": {},
   "source": [
    "# compare tests - tables"
   ]
  },
  {
   "cell_type": "code",
   "execution_count": 41,
   "metadata": {},
   "outputs": [],
   "source": [
    "final_stats_df = final_stats_df.sort_values(by=['test_types', 'test_id', 'experiments']).reset_index(drop=True)\n"
   ]
  },
  {
   "cell_type": "markdown",
   "metadata": {},
   "source": [
    "# compare tests - plots"
   ]
  },
  {
   "cell_type": "markdown",
   "metadata": {},
   "source": []
  },
  {
   "cell_type": "code",
   "execution_count": 42,
   "metadata": {},
   "outputs": [
    {
     "data": {
      "text/html": [
       "<div>\n",
       "<style scoped>\n",
       "    .dataframe tbody tr th:only-of-type {\n",
       "        vertical-align: middle;\n",
       "    }\n",
       "\n",
       "    .dataframe tbody tr th {\n",
       "        vertical-align: top;\n",
       "    }\n",
       "\n",
       "    .dataframe thead th {\n",
       "        text-align: right;\n",
       "    }\n",
       "</style>\n",
       "<table border=\"1\" class=\"dataframe\">\n",
       "  <thead>\n",
       "    <tr style=\"text-align: right;\">\n",
       "      <th></th>\n",
       "      <th>test_id</th>\n",
       "      <th>checkpoint</th>\n",
       "      <th>cluster_id</th>\n",
       "      <th>workload_id</th>\n",
       "      <th>workload_id_test</th>\n",
       "      <th>experiments</th>\n",
       "      <th>episode_length</th>\n",
       "      <th>num_episodes</th>\n",
       "      <th>penalalty_consolidated</th>\n",
       "      <th>consolidated</th>\n",
       "      <th>reward_g_test_average</th>\n",
       "      <th>reward_u_test_average</th>\n",
       "      <th>variance</th>\n",
       "      <th>test_types</th>\n",
       "    </tr>\n",
       "  </thead>\n",
       "  <tbody>\n",
       "    <tr>\n",
       "      <th>13</th>\n",
       "      <td>13</td>\n",
       "      <td>300</td>\n",
       "      <td>6</td>\n",
       "      <td>0</td>\n",
       "      <td>3</td>\n",
       "      <td>1</td>\n",
       "      <td>1000</td>\n",
       "      <td>5</td>\n",
       "      <td>0.00</td>\n",
       "      <td>0.6172</td>\n",
       "      <td>0.327345</td>\n",
       "      <td>4.228089e+26</td>\n",
       "      <td>7.448921e+50</td>\n",
       "      <td>DQN</td>\n",
       "    </tr>\n",
       "    <tr>\n",
       "      <th>14</th>\n",
       "      <td>14</td>\n",
       "      <td>300</td>\n",
       "      <td>6</td>\n",
       "      <td>0</td>\n",
       "      <td>3</td>\n",
       "      <td>2</td>\n",
       "      <td>1000</td>\n",
       "      <td>5</td>\n",
       "      <td>0.75</td>\n",
       "      <td>1.6734</td>\n",
       "      <td>0.300418</td>\n",
       "      <td>3.706243e+26</td>\n",
       "      <td>6.211699e+50</td>\n",
       "      <td>DQN</td>\n",
       "    </tr>\n",
       "    <tr>\n",
       "      <th>12</th>\n",
       "      <td>12</td>\n",
       "      <td>300</td>\n",
       "      <td>6</td>\n",
       "      <td>0</td>\n",
       "      <td>3</td>\n",
       "      <td>0</td>\n",
       "      <td>1000</td>\n",
       "      <td>5</td>\n",
       "      <td>1.00</td>\n",
       "      <td>3.5976</td>\n",
       "      <td>0.244855</td>\n",
       "      <td>3.056775e+26</td>\n",
       "      <td>6.533025e+50</td>\n",
       "      <td>DQN</td>\n",
       "    </tr>\n",
       "    <tr>\n",
       "      <th>4</th>\n",
       "      <td>4</td>\n",
       "      <td>300</td>\n",
       "      <td>8</td>\n",
       "      <td>0</td>\n",
       "      <td>3</td>\n",
       "      <td>1</td>\n",
       "      <td>1000</td>\n",
       "      <td>5</td>\n",
       "      <td>0.00</td>\n",
       "      <td>2.0116</td>\n",
       "      <td>0.358916</td>\n",
       "      <td>4.207320e+26</td>\n",
       "      <td>5.259708e+50</td>\n",
       "      <td>DQN</td>\n",
       "    </tr>\n",
       "    <tr>\n",
       "      <th>5</th>\n",
       "      <td>5</td>\n",
       "      <td>300</td>\n",
       "      <td>8</td>\n",
       "      <td>0</td>\n",
       "      <td>3</td>\n",
       "      <td>2</td>\n",
       "      <td>1000</td>\n",
       "      <td>5</td>\n",
       "      <td>0.75</td>\n",
       "      <td>3.8446</td>\n",
       "      <td>0.316682</td>\n",
       "      <td>3.741439e+26</td>\n",
       "      <td>5.513594e+50</td>\n",
       "      <td>DQN</td>\n",
       "    </tr>\n",
       "    <tr>\n",
       "      <th>3</th>\n",
       "      <td>3</td>\n",
       "      <td>300</td>\n",
       "      <td>8</td>\n",
       "      <td>0</td>\n",
       "      <td>3</td>\n",
       "      <td>0</td>\n",
       "      <td>1000</td>\n",
       "      <td>5</td>\n",
       "      <td>1.00</td>\n",
       "      <td>5.5740</td>\n",
       "      <td>0.291623</td>\n",
       "      <td>3.244145e+26</td>\n",
       "      <td>5.209433e+50</td>\n",
       "      <td>DQN</td>\n",
       "    </tr>\n",
       "    <tr>\n",
       "      <th>16</th>\n",
       "      <td>16</td>\n",
       "      <td>300</td>\n",
       "      <td>10</td>\n",
       "      <td>0</td>\n",
       "      <td>3</td>\n",
       "      <td>1</td>\n",
       "      <td>1000</td>\n",
       "      <td>5</td>\n",
       "      <td>0.00</td>\n",
       "      <td>2.1500</td>\n",
       "      <td>0.361200</td>\n",
       "      <td>1.453957e+22</td>\n",
       "      <td>3.102819e+43</td>\n",
       "      <td>DQN</td>\n",
       "    </tr>\n",
       "    <tr>\n",
       "      <th>17</th>\n",
       "      <td>17</td>\n",
       "      <td>300</td>\n",
       "      <td>10</td>\n",
       "      <td>0</td>\n",
       "      <td>3</td>\n",
       "      <td>2</td>\n",
       "      <td>1000</td>\n",
       "      <td>5</td>\n",
       "      <td>0.75</td>\n",
       "      <td>5.6730</td>\n",
       "      <td>0.301863</td>\n",
       "      <td>1.452504e+22</td>\n",
       "      <td>3.102816e+43</td>\n",
       "      <td>DQN</td>\n",
       "    </tr>\n",
       "    <tr>\n",
       "      <th>15</th>\n",
       "      <td>15</td>\n",
       "      <td>300</td>\n",
       "      <td>10</td>\n",
       "      <td>0</td>\n",
       "      <td>3</td>\n",
       "      <td>0</td>\n",
       "      <td>1000</td>\n",
       "      <td>5</td>\n",
       "      <td>1.00</td>\n",
       "      <td>8.3926</td>\n",
       "      <td>0.238982</td>\n",
       "      <td>6.271024e+18</td>\n",
       "      <td>1.330946e+37</td>\n",
       "      <td>DQN</td>\n",
       "    </tr>\n",
       "  </tbody>\n",
       "</table>\n",
       "</div>"
      ],
      "text/plain": [
       "    test_id  checkpoint  cluster_id  workload_id  workload_id_test  \\\n",
       "13       13         300           6            0                 3   \n",
       "14       14         300           6            0                 3   \n",
       "12       12         300           6            0                 3   \n",
       "4         4         300           8            0                 3   \n",
       "5         5         300           8            0                 3   \n",
       "3         3         300           8            0                 3   \n",
       "16       16         300          10            0                 3   \n",
       "17       17         300          10            0                 3   \n",
       "15       15         300          10            0                 3   \n",
       "\n",
       "    experiments  episode_length  num_episodes  penalalty_consolidated  \\\n",
       "13            1            1000             5                    0.00   \n",
       "14            2            1000             5                    0.75   \n",
       "12            0            1000             5                    1.00   \n",
       "4             1            1000             5                    0.00   \n",
       "5             2            1000             5                    0.75   \n",
       "3             0            1000             5                    1.00   \n",
       "16            1            1000             5                    0.00   \n",
       "17            2            1000             5                    0.75   \n",
       "15            0            1000             5                    1.00   \n",
       "\n",
       "    consolidated  reward_g_test_average  reward_u_test_average      variance  \\\n",
       "13        0.6172               0.327345           4.228089e+26  7.448921e+50   \n",
       "14        1.6734               0.300418           3.706243e+26  6.211699e+50   \n",
       "12        3.5976               0.244855           3.056775e+26  6.533025e+50   \n",
       "4         2.0116               0.358916           4.207320e+26  5.259708e+50   \n",
       "5         3.8446               0.316682           3.741439e+26  5.513594e+50   \n",
       "3         5.5740               0.291623           3.244145e+26  5.209433e+50   \n",
       "16        2.1500               0.361200           1.453957e+22  3.102819e+43   \n",
       "17        5.6730               0.301863           1.452504e+22  3.102816e+43   \n",
       "15        8.3926               0.238982           6.271024e+18  1.330946e+37   \n",
       "\n",
       "   test_types  \n",
       "13        DQN  \n",
       "14        DQN  \n",
       "12        DQN  \n",
       "4         DQN  \n",
       "5         DQN  \n",
       "3         DQN  \n",
       "16        DQN  \n",
       "17        DQN  \n",
       "15        DQN  "
      ]
     },
     "execution_count": 42,
     "metadata": {},
     "output_type": "execute_result"
    }
   ],
   "source": [
    "selected = final_stats_df[(final_stats_df['cluster_id'] == 17) | (final_stats_df['cluster_id'] == 21) | (final_stats_df['cluster_id'] == 22)].sort_values(by=['cluster_id', 'consolidated'])\n",
    "selected.loc[selected['cluster_id'] == 21, 'cluster_id'] = 6\n",
    "selected.loc[selected['cluster_id'] == 17, 'cluster_id'] = 8\n",
    "selected.loc[selected['cluster_id'] == 22, 'cluster_id'] = 10\n",
    "selected = selected.sort_values(by=['cluster_id'])\n",
    "# selected.loc[selected['experiments'] == 0, 'cluster_id'] = 'Consolidation'\n",
    "# selected.loc[selected['experiments'] == 1, 'cluster_id'] = 'Fairness'\n",
    "# selected.loc[selected['experiments'] == 2, 'cluster_id'] = 'Balance'\n",
    "selected"
   ]
  },
  {
   "cell_type": "code",
   "execution_count": 47,
   "metadata": {},
   "outputs": [
    {
     "data": {
      "text/html": [
       "<div>\n",
       "<style scoped>\n",
       "    .dataframe tbody tr th:only-of-type {\n",
       "        vertical-align: middle;\n",
       "    }\n",
       "\n",
       "    .dataframe tbody tr th {\n",
       "        vertical-align: top;\n",
       "    }\n",
       "\n",
       "    .dataframe thead th {\n",
       "        text-align: right;\n",
       "    }\n",
       "</style>\n",
       "<table border=\"1\" class=\"dataframe\">\n",
       "  <thead>\n",
       "    <tr style=\"text-align: right;\">\n",
       "      <th></th>\n",
       "      <th>Fairness</th>\n",
       "      <th>Balance</th>\n",
       "      <th>Consolidation</th>\n",
       "    </tr>\n",
       "    <tr>\n",
       "      <th># nodes</th>\n",
       "      <th></th>\n",
       "      <th></th>\n",
       "      <th></th>\n",
       "    </tr>\n",
       "  </thead>\n",
       "  <tbody>\n",
       "    <tr>\n",
       "      <th>6</th>\n",
       "      <td>0.61</td>\n",
       "      <td>1.67</td>\n",
       "      <td>3.59</td>\n",
       "    </tr>\n",
       "    <tr>\n",
       "      <th>8</th>\n",
       "      <td>2.00</td>\n",
       "      <td>3.80</td>\n",
       "      <td>5.50</td>\n",
       "    </tr>\n",
       "    <tr>\n",
       "      <th>10</th>\n",
       "      <td>2.10</td>\n",
       "      <td>5.60</td>\n",
       "      <td>8.30</td>\n",
       "    </tr>\n",
       "  </tbody>\n",
       "</table>\n",
       "</div>"
      ],
      "text/plain": [
       "         Fairness  Balance  Consolidation\n",
       "# nodes                                  \n",
       "6            0.61     1.67           3.59\n",
       "8            2.00     3.80           5.50\n",
       "10           2.10     5.60           8.30"
      ]
     },
     "execution_count": 47,
     "metadata": {},
     "output_type": "execute_result"
    }
   ],
   "source": [
    "df_cons_plot = pd.DataFrame([], columns=['# nodes', 'Fairness', 'Balance', 'Consolidation'])\n",
    "to_append = pd.DataFrame({'# nodes': [6], 'Fairness': [0.61], 'Balance': [1.67], 'Consolidation': [3.59]})\n",
    "df_cons_plot = df_cons_plot.append(to_append)\n",
    "to_append = pd.DataFrame({'# nodes': [8], 'Fairness': [2], 'Balance': [3.8], 'Consolidation': [5.5]})\n",
    "df_cons_plot = df_cons_plot.append(to_append)\n",
    "to_append = pd.DataFrame({'# nodes': [10], 'Fairness': [2.1], 'Balance': [5.6], 'Consolidation': [8.3]})\n",
    "df_cons_plot = df_cons_plot.append(to_append)\n",
    "\n",
    "df_cons_plot.set_index('# nodes', inplace=True)\n",
    "\n",
    "df_cons_plot"
   ]
  },
  {
   "cell_type": "code",
   "execution_count": 48,
   "metadata": {},
   "outputs": [
    {
     "ename": "FileNotFoundError",
     "evalue": "[Errno 2] No such file or directory: '../../paper-figs/test-average-latency.pdf'",
     "output_type": "error",
     "traceback": [
      "\u001b[0;31m---------------------------------------------------------------------------\u001b[0m",
      "\u001b[0;31mFileNotFoundError\u001b[0m                         Traceback (most recent call last)",
      "\u001b[0;32m/tmp/ipykernel_4773/1416843560.py\u001b[0m in \u001b[0;36m<module>\u001b[0;34m\u001b[0m\n\u001b[1;32m      7\u001b[0m \u001b[0mplt\u001b[0m\u001b[0;34m.\u001b[0m\u001b[0mylabel\u001b[0m\u001b[0;34m(\u001b[0m\u001b[0;34m\"Average latency (s)\"\u001b[0m\u001b[0;34m)\u001b[0m\u001b[0;34m\u001b[0m\u001b[0;34m\u001b[0m\u001b[0m\n\u001b[1;32m      8\u001b[0m \u001b[0mplt\u001b[0m\u001b[0;34m.\u001b[0m\u001b[0mlegend\u001b[0m\u001b[0;34m(\u001b[0m\u001b[0mloc\u001b[0m\u001b[0;34m=\u001b[0m\u001b[0;34m'center left'\u001b[0m\u001b[0;34m,\u001b[0m \u001b[0mbbox_to_anchor\u001b[0m\u001b[0;34m=\u001b[0m\u001b[0;34m(\u001b[0m\u001b[0;36m1\u001b[0m\u001b[0;34m,\u001b[0m \u001b[0;36m0.5\u001b[0m\u001b[0;34m)\u001b[0m\u001b[0;34m)\u001b[0m\u001b[0;34m\u001b[0m\u001b[0;34m\u001b[0m\u001b[0m\n\u001b[0;32m----> 9\u001b[0;31m \u001b[0mplt\u001b[0m\u001b[0;34m.\u001b[0m\u001b[0msavefig\u001b[0m\u001b[0;34m(\u001b[0m\u001b[0;34m'../../paper-figs/test-average-latency.pdf'\u001b[0m\u001b[0;34m,\u001b[0m \u001b[0mbbox_inches\u001b[0m\u001b[0;34m=\u001b[0m\u001b[0;34m'tight'\u001b[0m\u001b[0;34m)\u001b[0m\u001b[0;34m\u001b[0m\u001b[0;34m\u001b[0m\u001b[0m\n\u001b[0m\u001b[1;32m     10\u001b[0m \u001b[0mplt\u001b[0m\u001b[0;34m.\u001b[0m\u001b[0mshow\u001b[0m\u001b[0;34m(\u001b[0m\u001b[0;34m)\u001b[0m\u001b[0;34m\u001b[0m\u001b[0;34m\u001b[0m\u001b[0m\n",
      "\u001b[0;32m~/.conda/envs/central/lib/python3.8/site-packages/matplotlib/pyplot.py\u001b[0m in \u001b[0;36msavefig\u001b[0;34m(*args, **kwargs)\u001b[0m\n\u001b[1;32m    857\u001b[0m \u001b[0;32mdef\u001b[0m \u001b[0msavefig\u001b[0m\u001b[0;34m(\u001b[0m\u001b[0;34m*\u001b[0m\u001b[0margs\u001b[0m\u001b[0;34m,\u001b[0m \u001b[0;34m**\u001b[0m\u001b[0mkwargs\u001b[0m\u001b[0;34m)\u001b[0m\u001b[0;34m:\u001b[0m\u001b[0;34m\u001b[0m\u001b[0;34m\u001b[0m\u001b[0m\n\u001b[1;32m    858\u001b[0m     \u001b[0mfig\u001b[0m \u001b[0;34m=\u001b[0m \u001b[0mgcf\u001b[0m\u001b[0;34m(\u001b[0m\u001b[0;34m)\u001b[0m\u001b[0;34m\u001b[0m\u001b[0;34m\u001b[0m\u001b[0m\n\u001b[0;32m--> 859\u001b[0;31m     \u001b[0mres\u001b[0m \u001b[0;34m=\u001b[0m \u001b[0mfig\u001b[0m\u001b[0;34m.\u001b[0m\u001b[0msavefig\u001b[0m\u001b[0;34m(\u001b[0m\u001b[0;34m*\u001b[0m\u001b[0margs\u001b[0m\u001b[0;34m,\u001b[0m \u001b[0;34m**\u001b[0m\u001b[0mkwargs\u001b[0m\u001b[0;34m)\u001b[0m\u001b[0;34m\u001b[0m\u001b[0;34m\u001b[0m\u001b[0m\n\u001b[0m\u001b[1;32m    860\u001b[0m     \u001b[0mfig\u001b[0m\u001b[0;34m.\u001b[0m\u001b[0mcanvas\u001b[0m\u001b[0;34m.\u001b[0m\u001b[0mdraw_idle\u001b[0m\u001b[0;34m(\u001b[0m\u001b[0;34m)\u001b[0m   \u001b[0;31m# need this if 'transparent=True' to reset colors\u001b[0m\u001b[0;34m\u001b[0m\u001b[0;34m\u001b[0m\u001b[0m\n\u001b[1;32m    861\u001b[0m     \u001b[0;32mreturn\u001b[0m \u001b[0mres\u001b[0m\u001b[0;34m\u001b[0m\u001b[0;34m\u001b[0m\u001b[0m\n",
      "\u001b[0;32m~/.conda/envs/central/lib/python3.8/site-packages/matplotlib/figure.py\u001b[0m in \u001b[0;36msavefig\u001b[0;34m(self, fname, transparent, **kwargs)\u001b[0m\n\u001b[1;32m   2309\u001b[0m                 \u001b[0mpatch\u001b[0m\u001b[0;34m.\u001b[0m\u001b[0mset_edgecolor\u001b[0m\u001b[0;34m(\u001b[0m\u001b[0;34m'none'\u001b[0m\u001b[0;34m)\u001b[0m\u001b[0;34m\u001b[0m\u001b[0;34m\u001b[0m\u001b[0m\n\u001b[1;32m   2310\u001b[0m \u001b[0;34m\u001b[0m\u001b[0m\n\u001b[0;32m-> 2311\u001b[0;31m         \u001b[0mself\u001b[0m\u001b[0;34m.\u001b[0m\u001b[0mcanvas\u001b[0m\u001b[0;34m.\u001b[0m\u001b[0mprint_figure\u001b[0m\u001b[0;34m(\u001b[0m\u001b[0mfname\u001b[0m\u001b[0;34m,\u001b[0m \u001b[0;34m**\u001b[0m\u001b[0mkwargs\u001b[0m\u001b[0;34m)\u001b[0m\u001b[0;34m\u001b[0m\u001b[0;34m\u001b[0m\u001b[0m\n\u001b[0m\u001b[1;32m   2312\u001b[0m \u001b[0;34m\u001b[0m\u001b[0m\n\u001b[1;32m   2313\u001b[0m         \u001b[0;32mif\u001b[0m \u001b[0mtransparent\u001b[0m\u001b[0;34m:\u001b[0m\u001b[0;34m\u001b[0m\u001b[0;34m\u001b[0m\u001b[0m\n",
      "\u001b[0;32m~/.conda/envs/central/lib/python3.8/site-packages/matplotlib/backend_bases.py\u001b[0m in \u001b[0;36mprint_figure\u001b[0;34m(self, filename, dpi, facecolor, edgecolor, orientation, format, bbox_inches, pad_inches, bbox_extra_artists, backend, **kwargs)\u001b[0m\n\u001b[1;32m   2208\u001b[0m \u001b[0;34m\u001b[0m\u001b[0m\n\u001b[1;32m   2209\u001b[0m             \u001b[0;32mtry\u001b[0m\u001b[0;34m:\u001b[0m\u001b[0;34m\u001b[0m\u001b[0;34m\u001b[0m\u001b[0m\n\u001b[0;32m-> 2210\u001b[0;31m                 result = print_method(\n\u001b[0m\u001b[1;32m   2211\u001b[0m                     \u001b[0mfilename\u001b[0m\u001b[0;34m,\u001b[0m\u001b[0;34m\u001b[0m\u001b[0;34m\u001b[0m\u001b[0m\n\u001b[1;32m   2212\u001b[0m                     \u001b[0mdpi\u001b[0m\u001b[0;34m=\u001b[0m\u001b[0mdpi\u001b[0m\u001b[0;34m,\u001b[0m\u001b[0;34m\u001b[0m\u001b[0;34m\u001b[0m\u001b[0m\n",
      "\u001b[0;32m~/.conda/envs/central/lib/python3.8/site-packages/matplotlib/backend_bases.py\u001b[0m in \u001b[0;36mwrapper\u001b[0;34m(*args, **kwargs)\u001b[0m\n\u001b[1;32m   1637\u001b[0m             \u001b[0mkwargs\u001b[0m\u001b[0;34m.\u001b[0m\u001b[0mpop\u001b[0m\u001b[0;34m(\u001b[0m\u001b[0marg\u001b[0m\u001b[0;34m)\u001b[0m\u001b[0;34m\u001b[0m\u001b[0;34m\u001b[0m\u001b[0m\n\u001b[1;32m   1638\u001b[0m \u001b[0;34m\u001b[0m\u001b[0m\n\u001b[0;32m-> 1639\u001b[0;31m         \u001b[0;32mreturn\u001b[0m \u001b[0mfunc\u001b[0m\u001b[0;34m(\u001b[0m\u001b[0;34m*\u001b[0m\u001b[0margs\u001b[0m\u001b[0;34m,\u001b[0m \u001b[0;34m**\u001b[0m\u001b[0mkwargs\u001b[0m\u001b[0;34m)\u001b[0m\u001b[0;34m\u001b[0m\u001b[0;34m\u001b[0m\u001b[0m\n\u001b[0m\u001b[1;32m   1640\u001b[0m \u001b[0;34m\u001b[0m\u001b[0m\n\u001b[1;32m   1641\u001b[0m     \u001b[0;32mreturn\u001b[0m \u001b[0mwrapper\u001b[0m\u001b[0;34m\u001b[0m\u001b[0;34m\u001b[0m\u001b[0m\n",
      "\u001b[0;32m~/.conda/envs/central/lib/python3.8/site-packages/matplotlib/backends/backend_pdf.py\u001b[0m in \u001b[0;36mprint_pdf\u001b[0;34m(self, filename, dpi, bbox_inches_restore, metadata)\u001b[0m\n\u001b[1;32m   2584\u001b[0m             \u001b[0mfile\u001b[0m \u001b[0;34m=\u001b[0m \u001b[0mfilename\u001b[0m\u001b[0;34m.\u001b[0m\u001b[0m_file\u001b[0m\u001b[0;34m\u001b[0m\u001b[0;34m\u001b[0m\u001b[0m\n\u001b[1;32m   2585\u001b[0m         \u001b[0;32melse\u001b[0m\u001b[0;34m:\u001b[0m\u001b[0;34m\u001b[0m\u001b[0;34m\u001b[0m\u001b[0m\n\u001b[0;32m-> 2586\u001b[0;31m             \u001b[0mfile\u001b[0m \u001b[0;34m=\u001b[0m \u001b[0mPdfFile\u001b[0m\u001b[0;34m(\u001b[0m\u001b[0mfilename\u001b[0m\u001b[0;34m,\u001b[0m \u001b[0mmetadata\u001b[0m\u001b[0;34m=\u001b[0m\u001b[0mmetadata\u001b[0m\u001b[0;34m)\u001b[0m\u001b[0;34m\u001b[0m\u001b[0;34m\u001b[0m\u001b[0m\n\u001b[0m\u001b[1;32m   2587\u001b[0m         \u001b[0;32mtry\u001b[0m\u001b[0;34m:\u001b[0m\u001b[0;34m\u001b[0m\u001b[0;34m\u001b[0m\u001b[0m\n\u001b[1;32m   2588\u001b[0m             \u001b[0mfile\u001b[0m\u001b[0;34m.\u001b[0m\u001b[0mnewPage\u001b[0m\u001b[0;34m(\u001b[0m\u001b[0mwidth\u001b[0m\u001b[0;34m,\u001b[0m \u001b[0mheight\u001b[0m\u001b[0;34m)\u001b[0m\u001b[0;34m\u001b[0m\u001b[0;34m\u001b[0m\u001b[0m\n",
      "\u001b[0;32m~/.conda/envs/central/lib/python3.8/site-packages/matplotlib/backends/backend_pdf.py\u001b[0m in \u001b[0;36m__init__\u001b[0;34m(self, filename, metadata)\u001b[0m\n\u001b[1;32m    560\u001b[0m         \u001b[0mself\u001b[0m\u001b[0;34m.\u001b[0m\u001b[0moriginal_file_like\u001b[0m \u001b[0;34m=\u001b[0m \u001b[0;32mNone\u001b[0m\u001b[0;34m\u001b[0m\u001b[0;34m\u001b[0m\u001b[0m\n\u001b[1;32m    561\u001b[0m         \u001b[0mself\u001b[0m\u001b[0;34m.\u001b[0m\u001b[0mtell_base\u001b[0m \u001b[0;34m=\u001b[0m \u001b[0;36m0\u001b[0m\u001b[0;34m\u001b[0m\u001b[0;34m\u001b[0m\u001b[0m\n\u001b[0;32m--> 562\u001b[0;31m         \u001b[0mfh\u001b[0m\u001b[0;34m,\u001b[0m \u001b[0mopened\u001b[0m \u001b[0;34m=\u001b[0m \u001b[0mcbook\u001b[0m\u001b[0;34m.\u001b[0m\u001b[0mto_filehandle\u001b[0m\u001b[0;34m(\u001b[0m\u001b[0mfilename\u001b[0m\u001b[0;34m,\u001b[0m \u001b[0;34m\"wb\"\u001b[0m\u001b[0;34m,\u001b[0m \u001b[0mreturn_opened\u001b[0m\u001b[0;34m=\u001b[0m\u001b[0;32mTrue\u001b[0m\u001b[0;34m)\u001b[0m\u001b[0;34m\u001b[0m\u001b[0;34m\u001b[0m\u001b[0m\n\u001b[0m\u001b[1;32m    563\u001b[0m         \u001b[0;32mif\u001b[0m \u001b[0;32mnot\u001b[0m \u001b[0mopened\u001b[0m\u001b[0;34m:\u001b[0m\u001b[0;34m\u001b[0m\u001b[0;34m\u001b[0m\u001b[0m\n\u001b[1;32m    564\u001b[0m             \u001b[0;32mtry\u001b[0m\u001b[0;34m:\u001b[0m\u001b[0;34m\u001b[0m\u001b[0;34m\u001b[0m\u001b[0m\n",
      "\u001b[0;32m~/.conda/envs/central/lib/python3.8/site-packages/matplotlib/cbook/__init__.py\u001b[0m in \u001b[0;36mto_filehandle\u001b[0;34m(fname, flag, return_opened, encoding)\u001b[0m\n\u001b[1;32m    406\u001b[0m             \u001b[0mfh\u001b[0m \u001b[0;34m=\u001b[0m \u001b[0mbz2\u001b[0m\u001b[0;34m.\u001b[0m\u001b[0mBZ2File\u001b[0m\u001b[0;34m(\u001b[0m\u001b[0mfname\u001b[0m\u001b[0;34m,\u001b[0m \u001b[0mflag\u001b[0m\u001b[0;34m)\u001b[0m\u001b[0;34m\u001b[0m\u001b[0;34m\u001b[0m\u001b[0m\n\u001b[1;32m    407\u001b[0m         \u001b[0;32melse\u001b[0m\u001b[0;34m:\u001b[0m\u001b[0;34m\u001b[0m\u001b[0;34m\u001b[0m\u001b[0m\n\u001b[0;32m--> 408\u001b[0;31m             \u001b[0mfh\u001b[0m \u001b[0;34m=\u001b[0m \u001b[0mopen\u001b[0m\u001b[0;34m(\u001b[0m\u001b[0mfname\u001b[0m\u001b[0;34m,\u001b[0m \u001b[0mflag\u001b[0m\u001b[0;34m,\u001b[0m \u001b[0mencoding\u001b[0m\u001b[0;34m=\u001b[0m\u001b[0mencoding\u001b[0m\u001b[0;34m)\u001b[0m\u001b[0;34m\u001b[0m\u001b[0;34m\u001b[0m\u001b[0m\n\u001b[0m\u001b[1;32m    409\u001b[0m         \u001b[0mopened\u001b[0m \u001b[0;34m=\u001b[0m \u001b[0;32mTrue\u001b[0m\u001b[0;34m\u001b[0m\u001b[0;34m\u001b[0m\u001b[0m\n\u001b[1;32m    410\u001b[0m     \u001b[0;32melif\u001b[0m \u001b[0mhasattr\u001b[0m\u001b[0;34m(\u001b[0m\u001b[0mfname\u001b[0m\u001b[0;34m,\u001b[0m \u001b[0;34m'seek'\u001b[0m\u001b[0;34m)\u001b[0m\u001b[0;34m:\u001b[0m\u001b[0;34m\u001b[0m\u001b[0;34m\u001b[0m\u001b[0m\n",
      "\u001b[0;31mFileNotFoundError\u001b[0m: [Errno 2] No such file or directory: '../../paper-figs/test-average-latency.pdf'"
     ]
    },
    {
     "data": {
      "text/plain": [
       "<Figure size 432x288 with 0 Axes>"
      ]
     },
     "metadata": {},
     "output_type": "display_data"
    },
    {
     "data": {
      "image/png": "[encoded data removed]",
      "text/plain": [
       "<Figure size 432x288 with 1 Axes>"
      ]
     },
     "metadata": {
      "needs_background": "light"
     },
     "output_type": "display_data"
    }
   ],
   "source": [
    "# selected.plot(x='cluster_id', y='reward_g_test_average', kind='bar')\n",
    "import matplotlib.pyplot as plt\n",
    "plt.tight_layout()\n",
    "df_cons_plot.plot(kind='bar')\n",
    "plt.title(\"Consolidation Test\")\n",
    "plt.xlabel(\"number of Nodes\")\n",
    "plt.ylabel(\"Average \")\n",
    "plt.legend(loc='center left', bbox_to_anchor=(1, 0.5))\n",
    "plt.savefig('test-average-latency.pdf', bbox_inches='tight')\n",
    "# plt.show()"
   ]
  },
  {
   "cell_type": "code",
   "execution_count": 40,
   "metadata": {},
   "outputs": [
    {
     "data": {
      "image/png": "[encoded data removed]",
      "text/plain": [
       "<Figure size 432x288 with 1 Axes>"
      ]
     },
     "metadata": {
      "needs_background": "light"
     },
     "output_type": "display_data"
    }
   ],
   "source": [
    "import pandas as pd\n",
    "import matplotlib.pyplot as plt\n",
    "\n",
    "# create a sample dataframe\n",
    "data = {\n",
    "    'Category': ['A', 'B', 'C', 'A', 'B', 'C', 'A', 'B', 'C'],\n",
    "    'Value': [1, 2, 3, 4, 5, 6, 7, 8, 9]\n",
    "}\n",
    "df = pd.DataFrame(data)\n",
    "\n",
    "# group the data by category\n",
    "groups = df.groupby('Category')\n",
    "\n",
    "# create a plot with legends for each category\n",
    "fig, ax = plt.subplots()\n",
    "for name, group in groups:\n",
    "    ax.plot(group.index, group['Value'], marker='o', linestyle='', label=name)\n",
    "\n",
    "# set the legend to be displayed below the plot\n",
    "ax.legend(loc='upper center', bbox_to_anchor=(0.5, -0.1), ncol=len(groups))\n",
    "\n",
    "# show the plot\n",
    "plt.show()"
   ]
  },
  {
   "cell_type": "code",
   "execution_count": null,
   "metadata": {},
   "outputs": [],
   "source": []
  }
 ],
 "metadata": {
  "kernelspec": {
   "display_name": "Python 3.8.0 64-bit",
   "language": "python",
   "name": "python3"
  },
  "language_info": {
   "codemirror_mode": {
    "name": "ipython",
    "version": 3
   },
   "file_extension": ".py",
   "mimetype": "text/x-python",
   "name": "python",
   "nbconvert_exporter": "python",
   "pygments_lexer": "ipython3",
   "version": "3.8.0"
  },
  "orig_nbformat": 4,
  "vscode": {
   "interpreter": {
    "hash": "0e2adeafa4d8ea8b56364dfeb24ca99374007784e59d4b40ac8f07b769210312"
   }
  }
 },
 "nbformat": 4,
 "nbformat_minor": 2
}
