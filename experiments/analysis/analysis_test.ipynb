{
 "cells": [
  {
   "cell_type": "markdown",
   "metadata": {},
   "source": [
    "# Load the tests to compare"
   ]
  },
  {
   "cell_type": "code",
   "execution_count": 3,
   "metadata": {},
   "outputs": [
    {
     "name": "stdout",
     "output_type": "stream",
     "text": [
      "availeble tests:\n",
      " [0, 1, 2, 3, 4, 5, 6, 7, 8, 9, 10, 11, 12, 13, 14, 15, 16, 17]\n",
      "tests_types:\n",
      " ['DQN', 'DQN', 'DQN', 'DQN', 'DQN', 'DQN', 'DQN', 'DQN', 'DQN', 'DQN', 'DQN', 'DQN', 'DQN', 'DQN', 'DQN', 'DQN', 'DQN', 'DQN']\n"
     ]
    }
   ],
   "source": [
    "%matplotlib inline\n",
    "import os\n",
    "import sys\n",
    "import json\n",
    "import pickle\n",
    "import pandas as pd\n",
    "\n",
    "# get an absolute path to the directory that contains parent files\n",
    "project_dir = globals()['_dh'][0]\n",
    "sys.path.append(os.path.normpath(os.path.join(project_dir, '..', '..')))\n",
    "\n",
    "from experiments.utils.constants import TESTS_RESULTS_PATH\n",
    "series = 22\n",
    "start_test = 0\n",
    "end_test = 18\n",
    "tests_ids = [i for i in range(start_test, end_test)]\n",
    "tests_names = [i for i in range(start_test, end_test)]\n",
    "\n",
    "tests = {}\n",
    "\n",
    "\n",
    "for test_id, test_name in zip(tests_ids, tests_names):\n",
    "    test_path = os.path.join(\n",
    "        TESTS_RESULTS_PATH,\n",
    "        'series',\n",
    "        str(series),\n",
    "        'tests',\n",
    "        str(test_id))\n",
    "    with open(os.path.join(test_path, 'info.json')) as cf:\n",
    "        info = json.loads(cf.read())\n",
    "    with open(os.path.join(test_path, 'episodes.pickle'), 'rb') as input_file:\n",
    "        episodes = pickle.load(input_file)\n",
    "    tests.update({test_name: {\n",
    "        'info': info,\n",
    "        'episodes': episodes\n",
    "    }})\n",
    "test_types = [test['info']['algorithm'] for _, test in tests.items()]\n",
    "print(\"availeble tests:\\n {}\\ntests_types:\\n {}\".format(\n",
    "    list(tests.keys()),\n",
    "    test_types))"
   ]
  },
  {
   "cell_type": "markdown",
   "metadata": {},
   "source": [
    "# All Stats of a test"
   ]
  },
  {
   "cell_type": "code",
   "execution_count": 4,
   "metadata": {},
   "outputs": [
    {
     "name": "stdout",
     "output_type": "stream",
     "text": [
      "tests entry structure:\n",
      "dict_keys(['info', 'episodes'])\n",
      "tests entry info structure:\n",
      "dict_keys(['type_env', 'series', 'cluster_id', 'workload_id', 'workload_id_test', 'checkpoint', 'experiment_str', 'experiments', 'episode_length', 'num_episodes', 'algorithm', 'penalty_consolidated', 'num_workers'])\n",
      "tests entry episodes info:\n",
      "Index(['action', 'raw_obs', 'num_consolidated', 'num_overloaded',\n",
      "       'scheduling_timestep', 'scheduling_success', 'reward_illegal',\n",
      "       'reward_u', 'reward_c', 'reward_cv', 'reward_v', 'reward_g', 'reward_p',\n",
      "       'u', 'c', 'cv', 'v', 'g', 'p', 'reward'],\n",
      "      dtype='object')\n"
     ]
    }
   ],
   "source": [
    "test_id = 0\n",
    "episdoe_id = 0\n",
    "print(f'tests entry structure:\\n{tests[test_id].keys()}')\n",
    "print(f\"tests entry info structure:\\n{tests[test_id]['info'].keys()}\")\n",
    "print(f\"tests entry episodes info:\\n{tests[test_id]['episodes'][episdoe_id].columns}\")"
   ]
  },
  {
   "cell_type": "markdown",
   "metadata": {},
   "source": [
    "# Extracting necessary stats of all tests"
   ]
  },
  {
   "cell_type": "code",
   "execution_count": 5,
   "metadata": {},
   "outputs": [],
   "source": [
    "final_stats = []\n",
    "for test_id in range(start_test, end_test):\n",
    "    # TODO check for correctness\n",
    "    num_consolidated_episodes_average = [episode['num_consolidated'].mean() for episode in tests[test_id]['episodes']]\n",
    "    num_consolidated_test_average = sum(num_consolidated_episodes_average) / len(num_consolidated_episodes_average)\n",
    "\n",
    "    num_overloaded_episodes_average = [episode['num_overloaded'].mean() for episode in tests[test_id]['episodes']]\n",
    "    num_overloaded_test_average = sum(num_overloaded_episodes_average) / len(num_overloaded_episodes_average)\n",
    "\n",
    "    scheduling_success_episodes_average = [episode['scheduling_success'].mean() for episode in tests[test_id]['episodes']]\n",
    "    scheduling_success_test_average = sum(scheduling_success_episodes_average) / len(scheduling_success_episodes_average)\n",
    "\n",
    "    reward_illegal_episodes_average = [episode['reward_illegal'].mean() for episode in tests[test_id]['episodes']]\n",
    "    reward_illegal_test_average = sum(reward_illegal_episodes_average) / len(reward_illegal_episodes_average)\n",
    "\n",
    "    reward_u_episodes_average = [episode['reward_u'].mean() for episode in tests[test_id]['episodes']]\n",
    "    reward_u_test_average = sum(reward_u_episodes_average) / len(reward_u_episodes_average)\n",
    "\n",
    "    reward_c_episodes_average = [episode['reward_c'].mean() for episode in tests[test_id]['episodes']]\n",
    "    reward_c_test_average = sum(reward_c_episodes_average) / len(reward_c_episodes_average)\n",
    "\n",
    "    reward_c_episodes_average = [episode['reward_cv'].mean() for episode in tests[test_id]['episodes']]\n",
    "    reward_c_test_average = sum(reward_c_episodes_average) / len(reward_c_episodes_average)\n",
    "\n",
    "    reward_v_episodes_average = [episode['reward_v'].mean() for episode in tests[test_id]['episodes']]\n",
    "    reward_v_test_average = sum(reward_v_episodes_average) / len(reward_v_episodes_average)\n",
    "\n",
    "    reward_g_episodes_average = [episode['reward_g'].mean() for episode in tests[test_id]['episodes']]\n",
    "    reward_g_test_average = sum(reward_g_episodes_average) / len(reward_g_episodes_average)\n",
    "\n",
    "    reward_p_episodes_average = [episode['reward_p'].mean() for episode in tests[test_id]['episodes']]\n",
    "    reward_p_test_average = sum(reward_p_episodes_average) / len(reward_p_episodes_average)\n",
    "\n",
    "    cv_episodes_average = [episode['cv'].mean() for episode in tests[test_id]['episodes']]\n",
    "    cv_test_average = sum(cv_episodes_average) / len(cv_episodes_average)\n",
    "\n",
    "    reward_episodes_average = [episode['reward'].mean() for episode in tests[test_id]['episodes']]\n",
    "    reward_test_average = sum(reward_episodes_average) / len(reward_episodes_average)\n",
    "\n",
    "\n",
    "    final_stats.append({\n",
    "        'test_id': test_id,\n",
    "        'checkpoint': tests[test_id]['info']['checkpoint'],\n",
    "        # TODO where is workload id\n",
    "        'cluster_id': tests[test_id]['info']['cluster_id'],\n",
    "        'workload_id': tests[test_id]['info']['workload_id'],\n",
    "        'workload_id_test': tests[test_id]['info']['workload_id_test'],\n",
    "        'experiments': tests[test_id]['info']['experiments'],\n",
    "        'episode_length': tests[test_id]['info']['episode_length'],\n",
    "        'num_episodes': tests[test_id]['info']['num_episodes'],\n",
    "        'penalalty_consolidated': tests[test_id]['info']['penalty_consolidated'],\n",
    "        'consolidated': num_consolidated_test_average,\n",
    "        'scheduling_success_test_average': scheduling_success_test_average,\n",
    "        'reward_g_test_average': reward_g_test_average,\n",
    "        'reward_u_test_average': reward_u_test_average,\n",
    "        'variance': cv_test_average\n",
    "    })\n",
    "\n",
    "final_stats_df = pd.DataFrame(final_stats)\n",
    "final_stats_df['test_types'] = test_types\n",
    "# final_stats_df.loc[df['penalalty_consolidated']]\n",
    "\n",
    "# TODO add the following information to the table (from the info.json file)\n",
    "# - penatly_latency\n",
    "# - penalty_conslidation"
   ]
  },
  {
   "cell_type": "code",
   "execution_count": 6,
   "metadata": {},
   "outputs": [
    {
     "data": {
      "text/plain": [
       "{'type_env': 'sim-scheduler',\n",
       " 'series': 121,\n",
       " 'cluster_id': 18,\n",
       " 'workload_id': 0,\n",
       " 'workload_id_test': 3,\n",
       " 'checkpoint': 300,\n",
       " 'experiment_str': 'DQN_SimSchedulerEnv_4b07c_00000_0_2023-02-16_22-57-31',\n",
       " 'experiments': 2,\n",
       " 'episode_length': 1000,\n",
       " 'num_episodes': 5,\n",
       " 'algorithm': 'DQN',\n",
       " 'penalty_consolidated': 1,\n",
       " 'num_workers': 4}"
      ]
     },
     "execution_count": 6,
     "metadata": {},
     "output_type": "execute_result"
    }
   ],
   "source": [
    "test_id = 2\n",
    "tests[test_id]['info']"
   ]
  },
  {
   "cell_type": "markdown",
   "metadata": {},
   "source": [
    "# compare tests - tables"
   ]
  },
  {
   "cell_type": "code",
   "execution_count": 7,
   "metadata": {},
   "outputs": [],
   "source": [
    "final_stats_df = final_stats_df.sort_values(by=['test_types', 'test_id', 'experiments']).reset_index(drop=True)\n"
   ]
  },
  {
   "cell_type": "markdown",
   "metadata": {},
   "source": [
    "# compare tests - plots"
   ]
  },
  {
   "cell_type": "markdown",
   "metadata": {},
   "source": []
  },
  {
   "cell_type": "code",
   "execution_count": 8,
   "metadata": {},
   "outputs": [
    {
     "data": {
      "text/html": [
       "<div>\n",
       "<style scoped>\n",
       "    .dataframe tbody tr th:only-of-type {\n",
       "        vertical-align: middle;\n",
       "    }\n",
       "\n",
       "    .dataframe tbody tr th {\n",
       "        vertical-align: top;\n",
       "    }\n",
       "\n",
       "    .dataframe thead th {\n",
       "        text-align: right;\n",
       "    }\n",
       "</style>\n",
       "<table border=\"1\" class=\"dataframe\">\n",
       "  <thead>\n",
       "    <tr style=\"text-align: right;\">\n",
       "      <th></th>\n",
       "      <th>test_id</th>\n",
       "      <th>checkpoint</th>\n",
       "      <th>cluster_id</th>\n",
       "      <th>workload_id</th>\n",
       "      <th>workload_id_test</th>\n",
       "      <th>experiments</th>\n",
       "      <th>episode_length</th>\n",
       "      <th>num_episodes</th>\n",
       "      <th>penalalty_consolidated</th>\n",
       "      <th>consolidated</th>\n",
       "      <th>scheduling_success_test_average</th>\n",
       "      <th>reward_g_test_average</th>\n",
       "      <th>reward_u_test_average</th>\n",
       "      <th>variance</th>\n",
       "      <th>test_types</th>\n",
       "    </tr>\n",
       "  </thead>\n",
       "  <tbody>\n",
       "    <tr>\n",
       "      <th>13</th>\n",
       "      <td>13</td>\n",
       "      <td>300</td>\n",
       "      <td>6</td>\n",
       "      <td>0</td>\n",
       "      <td>3</td>\n",
       "      <td>1</td>\n",
       "      <td>1000</td>\n",
       "      <td>5</td>\n",
       "      <td>0.00</td>\n",
       "      <td>0.6172</td>\n",
       "      <td>0.1756</td>\n",
       "      <td>0.327345</td>\n",
       "      <td>4.228089e+26</td>\n",
       "      <td>7.448921e+50</td>\n",
       "      <td>DQN</td>\n",
       "    </tr>\n",
       "    <tr>\n",
       "      <th>14</th>\n",
       "      <td>14</td>\n",
       "      <td>300</td>\n",
       "      <td>6</td>\n",
       "      <td>0</td>\n",
       "      <td>3</td>\n",
       "      <td>2</td>\n",
       "      <td>1000</td>\n",
       "      <td>5</td>\n",
       "      <td>0.75</td>\n",
       "      <td>1.6734</td>\n",
       "      <td>0.1554</td>\n",
       "      <td>0.300418</td>\n",
       "      <td>3.706243e+26</td>\n",
       "      <td>6.211699e+50</td>\n",
       "      <td>DQN</td>\n",
       "    </tr>\n",
       "    <tr>\n",
       "      <th>12</th>\n",
       "      <td>12</td>\n",
       "      <td>300</td>\n",
       "      <td>6</td>\n",
       "      <td>0</td>\n",
       "      <td>3</td>\n",
       "      <td>0</td>\n",
       "      <td>1000</td>\n",
       "      <td>5</td>\n",
       "      <td>1.00</td>\n",
       "      <td>3.5976</td>\n",
       "      <td>0.1168</td>\n",
       "      <td>0.244855</td>\n",
       "      <td>3.056775e+26</td>\n",
       "      <td>6.533025e+50</td>\n",
       "      <td>DQN</td>\n",
       "    </tr>\n",
       "    <tr>\n",
       "      <th>4</th>\n",
       "      <td>4</td>\n",
       "      <td>300</td>\n",
       "      <td>8</td>\n",
       "      <td>0</td>\n",
       "      <td>3</td>\n",
       "      <td>1</td>\n",
       "      <td>1000</td>\n",
       "      <td>5</td>\n",
       "      <td>0.00</td>\n",
       "      <td>2.0116</td>\n",
       "      <td>0.1858</td>\n",
       "      <td>0.358916</td>\n",
       "      <td>4.207320e+26</td>\n",
       "      <td>5.259708e+50</td>\n",
       "      <td>DQN</td>\n",
       "    </tr>\n",
       "    <tr>\n",
       "      <th>5</th>\n",
       "      <td>5</td>\n",
       "      <td>300</td>\n",
       "      <td>8</td>\n",
       "      <td>0</td>\n",
       "      <td>3</td>\n",
       "      <td>2</td>\n",
       "      <td>1000</td>\n",
       "      <td>5</td>\n",
       "      <td>0.75</td>\n",
       "      <td>3.8446</td>\n",
       "      <td>0.1552</td>\n",
       "      <td>0.316682</td>\n",
       "      <td>3.741439e+26</td>\n",
       "      <td>5.513594e+50</td>\n",
       "      <td>DQN</td>\n",
       "    </tr>\n",
       "    <tr>\n",
       "      <th>3</th>\n",
       "      <td>3</td>\n",
       "      <td>300</td>\n",
       "      <td>8</td>\n",
       "      <td>0</td>\n",
       "      <td>3</td>\n",
       "      <td>0</td>\n",
       "      <td>1000</td>\n",
       "      <td>5</td>\n",
       "      <td>1.00</td>\n",
       "      <td>5.5740</td>\n",
       "      <td>0.1332</td>\n",
       "      <td>0.291623</td>\n",
       "      <td>3.244145e+26</td>\n",
       "      <td>5.209433e+50</td>\n",
       "      <td>DQN</td>\n",
       "    </tr>\n",
       "    <tr>\n",
       "      <th>16</th>\n",
       "      <td>16</td>\n",
       "      <td>300</td>\n",
       "      <td>10</td>\n",
       "      <td>0</td>\n",
       "      <td>3</td>\n",
       "      <td>1</td>\n",
       "      <td>1000</td>\n",
       "      <td>5</td>\n",
       "      <td>0.00</td>\n",
       "      <td>2.1500</td>\n",
       "      <td>0.1872</td>\n",
       "      <td>0.361200</td>\n",
       "      <td>1.453957e+22</td>\n",
       "      <td>3.102819e+43</td>\n",
       "      <td>DQN</td>\n",
       "    </tr>\n",
       "    <tr>\n",
       "      <th>17</th>\n",
       "      <td>17</td>\n",
       "      <td>300</td>\n",
       "      <td>10</td>\n",
       "      <td>0</td>\n",
       "      <td>3</td>\n",
       "      <td>2</td>\n",
       "      <td>1000</td>\n",
       "      <td>5</td>\n",
       "      <td>0.75</td>\n",
       "      <td>5.6730</td>\n",
       "      <td>0.1376</td>\n",
       "      <td>0.301863</td>\n",
       "      <td>1.452504e+22</td>\n",
       "      <td>3.102816e+43</td>\n",
       "      <td>DQN</td>\n",
       "    </tr>\n",
       "    <tr>\n",
       "      <th>15</th>\n",
       "      <td>15</td>\n",
       "      <td>300</td>\n",
       "      <td>10</td>\n",
       "      <td>0</td>\n",
       "      <td>3</td>\n",
       "      <td>0</td>\n",
       "      <td>1000</td>\n",
       "      <td>5</td>\n",
       "      <td>1.00</td>\n",
       "      <td>8.3926</td>\n",
       "      <td>0.0908</td>\n",
       "      <td>0.238982</td>\n",
       "      <td>6.271024e+18</td>\n",
       "      <td>1.330946e+37</td>\n",
       "      <td>DQN</td>\n",
       "    </tr>\n",
       "  </tbody>\n",
       "</table>\n",
       "</div>"
      ],
      "text/plain": [
       "    test_id  checkpoint  cluster_id  workload_id  workload_id_test  \\\n",
       "13       13         300           6            0                 3   \n",
       "14       14         300           6            0                 3   \n",
       "12       12         300           6            0                 3   \n",
       "4         4         300           8            0                 3   \n",
       "5         5         300           8            0                 3   \n",
       "3         3         300           8            0                 3   \n",
       "16       16         300          10            0                 3   \n",
       "17       17         300          10            0                 3   \n",
       "15       15         300          10            0                 3   \n",
       "\n",
       "    experiments  episode_length  num_episodes  penalalty_consolidated  \\\n",
       "13            1            1000             5                    0.00   \n",
       "14            2            1000             5                    0.75   \n",
       "12            0            1000             5                    1.00   \n",
       "4             1            1000             5                    0.00   \n",
       "5             2            1000             5                    0.75   \n",
       "3             0            1000             5                    1.00   \n",
       "16            1            1000             5                    0.00   \n",
       "17            2            1000             5                    0.75   \n",
       "15            0            1000             5                    1.00   \n",
       "\n",
       "    consolidated  scheduling_success_test_average  reward_g_test_average  \\\n",
       "13        0.6172                           0.1756               0.327345   \n",
       "14        1.6734                           0.1554               0.300418   \n",
       "12        3.5976                           0.1168               0.244855   \n",
       "4         2.0116                           0.1858               0.358916   \n",
       "5         3.8446                           0.1552               0.316682   \n",
       "3         5.5740                           0.1332               0.291623   \n",
       "16        2.1500                           0.1872               0.361200   \n",
       "17        5.6730                           0.1376               0.301863   \n",
       "15        8.3926                           0.0908               0.238982   \n",
       "\n",
       "    reward_u_test_average      variance test_types  \n",
       "13           4.228089e+26  7.448921e+50        DQN  \n",
       "14           3.706243e+26  6.211699e+50        DQN  \n",
       "12           3.056775e+26  6.533025e+50        DQN  \n",
       "4            4.207320e+26  5.259708e+50        DQN  \n",
       "5            3.741439e+26  5.513594e+50        DQN  \n",
       "3            3.244145e+26  5.209433e+50        DQN  \n",
       "16           1.453957e+22  3.102819e+43        DQN  \n",
       "17           1.452504e+22  3.102816e+43        DQN  \n",
       "15           6.271024e+18  1.330946e+37        DQN  "
      ]
     },
     "execution_count": 8,
     "metadata": {},
     "output_type": "execute_result"
    }
   ],
   "source": [
    "selected = final_stats_df[(final_stats_df['cluster_id'] == 17) | (final_stats_df['cluster_id'] == 21) | (final_stats_df['cluster_id'] == 22)].sort_values(by=['cluster_id', 'consolidated'])\n",
    "selected.loc[selected['cluster_id'] == 21, 'cluster_id'] = 6\n",
    "selected.loc[selected['cluster_id'] == 17, 'cluster_id'] = 8\n",
    "selected.loc[selected['cluster_id'] == 22, 'cluster_id'] = 10\n",
    "selected = selected.sort_values(by=['cluster_id'])\n",
    "# selected.loc[selected['experiments'] == 0, 'cluster_id'] = 'Consolidation'\n",
    "# selected.loc[selected['experiments'] == 1, 'cluster_id'] = 'Fairness'\n",
    "# selected.loc[selected['experiments'] == 2, 'cluster_id'] = 'Balance'\n",
    "selected"
   ]
  },
  {
   "cell_type": "code",
   "execution_count": 47,
   "metadata": {},
   "outputs": [
    {
     "data": {
      "text/html": [
       "<div>\n",
       "<style scoped>\n",
       "    .dataframe tbody tr th:only-of-type {\n",
       "        vertical-align: middle;\n",
       "    }\n",
       "\n",
       "    .dataframe tbody tr th {\n",
       "        vertical-align: top;\n",
       "    }\n",
       "\n",
       "    .dataframe thead th {\n",
       "        text-align: right;\n",
       "    }\n",
       "</style>\n",
       "<table border=\"1\" class=\"dataframe\">\n",
       "  <thead>\n",
       "    <tr style=\"text-align: right;\">\n",
       "      <th></th>\n",
       "      <th>Fairness</th>\n",
       "      <th>Balance</th>\n",
       "      <th>Consolidation</th>\n",
       "    </tr>\n",
       "    <tr>\n",
       "      <th># nodes</th>\n",
       "      <th></th>\n",
       "      <th></th>\n",
       "      <th></th>\n",
       "    </tr>\n",
       "  </thead>\n",
       "  <tbody>\n",
       "    <tr>\n",
       "      <th>6</th>\n",
       "      <td>0.61</td>\n",
       "      <td>1.67</td>\n",
       "      <td>3.59</td>\n",
       "    </tr>\n",
       "    <tr>\n",
       "      <th>8</th>\n",
       "      <td>2.00</td>\n",
       "      <td>3.80</td>\n",
       "      <td>5.50</td>\n",
       "    </tr>\n",
       "    <tr>\n",
       "      <th>10</th>\n",
       "      <td>2.10</td>\n",
       "      <td>5.60</td>\n",
       "      <td>8.30</td>\n",
       "    </tr>\n",
       "  </tbody>\n",
       "</table>\n",
       "</div>"
      ],
      "text/plain": [
       "         Fairness  Balance  Consolidation\n",
       "# nodes                                  \n",
       "6            0.61     1.67           3.59\n",
       "8            2.00     3.80           5.50\n",
       "10           2.10     5.60           8.30"
      ]
     },
     "execution_count": 47,
     "metadata": {},
     "output_type": "execute_result"
    }
   ],
   "source": [
    "df_cons_plot = pd.DataFrame([], columns=['# nodes', 'Fairness', 'Balance', 'Consolidation'])\n",
    "to_append = pd.DataFrame({'# nodes': [6], 'Fairness': [0.61], 'Balance': [1.67], 'Consolidation': [3.59]})\n",
    "df_cons_plot = df_cons_plot.append(to_append)\n",
    "to_append = pd.DataFrame({'# nodes': [8], 'Fairness': [2], 'Balance': [3.8], 'Consolidation': [5.5]})\n",
    "df_cons_plot = df_cons_plot.append(to_append)\n",
    "to_append = pd.DataFrame({'# nodes': [10], 'Fairness': [2.1], 'Balance': [5.6], 'Consolidation': [8.3]})\n",
    "df_cons_plot = df_cons_plot.append(to_append)\n",
    "\n",
    "df_cons_plot.set_index('# nodes', inplace=True)\n",
    "\n",
    "df_cons_plot"
   ]
  },
  {
   "cell_type": "code",
   "execution_count": null,
   "metadata": {},
   "outputs": [
    {
     "data": {
      "text/plain": [
       "<Figure size 432x288 with 0 Axes>"
      ]
     },
     "metadata": {},
     "output_type": "display_data"
    },
    {
     "data": {
      "image/png": "[encoded data removed]",
      "text/plain": [
       "<Figure size 432x288 with 1 Axes>"
      ]
     },
     "metadata": {
      "needs_background": "light"
     },
     "output_type": "display_data"
    }
   ],
   "source": [
    "# selected.plot(x='cluster_id', y='reward_g_test_average', kind='bar')\n",
    "import matplotlib.pyplot as plt\n",
    "plt.tight_layout()\n",
    "df_cons_plot.plot(kind='bar')\n",
    "plt.title(\"Consolidation Test\")\n",
    "plt.xlabel(\"number of Nodes\")\n",
    "plt.ylabel(\"Average Number of Consolidated\")\n",
    "plt.legend(loc='center left', bbox_to_anchor=(1, 0.5))\n",
    "plt.savefig('test-average-consolidation.pdf', bbox_inches='tight')\n",
    "# plt.show()"
   ]
  },
  {
   "cell_type": "code",
   "execution_count": null,
   "metadata": {},
   "outputs": [
    {
     "data": {
      "text/html": [
       "<div>\n",
       "<style scoped>\n",
       "    .dataframe tbody tr th:only-of-type {\n",
       "        vertical-align: middle;\n",
       "    }\n",
       "\n",
       "    .dataframe tbody tr th {\n",
       "        vertical-align: top;\n",
       "    }\n",
       "\n",
       "    .dataframe thead th {\n",
       "        text-align: right;\n",
       "    }\n",
       "</style>\n",
       "<table border=\"1\" class=\"dataframe\">\n",
       "  <thead>\n",
       "    <tr style=\"text-align: right;\">\n",
       "      <th></th>\n",
       "      <th>Fairness</th>\n",
       "      <th>Balance</th>\n",
       "      <th>Consolidation</th>\n",
       "    </tr>\n",
       "    <tr>\n",
       "      <th># nodes</th>\n",
       "      <th></th>\n",
       "      <th></th>\n",
       "      <th></th>\n",
       "    </tr>\n",
       "  </thead>\n",
       "  <tbody>\n",
       "    <tr>\n",
       "      <th>6</th>\n",
       "      <td>0.32</td>\n",
       "      <td>0.30</td>\n",
       "      <td>0.24</td>\n",
       "    </tr>\n",
       "    <tr>\n",
       "      <th>8</th>\n",
       "      <td>0.36</td>\n",
       "      <td>0.32</td>\n",
       "      <td>0.29</td>\n",
       "    </tr>\n",
       "    <tr>\n",
       "      <th>10</th>\n",
       "      <td>0.36</td>\n",
       "      <td>0.30</td>\n",
       "      <td>0.23</td>\n",
       "    </tr>\n",
       "  </tbody>\n",
       "</table>\n",
       "</div>"
      ],
      "text/plain": [
       "         Fairness  Balance  Consolidation\n",
       "# nodes                                  \n",
       "6            0.32     0.30           0.24\n",
       "8            0.36     0.32           0.29\n",
       "10           0.36     0.30           0.23"
      ]
     },
     "execution_count": 50,
     "metadata": {},
     "output_type": "execute_result"
    }
   ],
   "source": [
    "df_g_plog = pd.DataFrame([], columns=['# nodes', 'Fairness', 'Balance', 'Consolidation'])\n",
    "to_append = pd.DataFrame({'# nodes': [6], 'Fairness': [0.32], 'Balance': [0.30], 'Consolidation': [0.24]})\n",
    "df_g_plog = df_g_plog.append(to_append)\n",
    "to_append = pd.DataFrame({'# nodes': [8], 'Fairness': [0.36], 'Balance': [0.32], 'Consolidation': [0.29]})\n",
    "df_g_plog = df_g_plog.append(to_append)\n",
    "to_append = pd.DataFrame({'# nodes': [10], 'Fairness': [0.36], 'Balance': [0.30], 'Consolidation': [0.23]})\n",
    "df_g_plog = df_g_plog.append(to_append)\n",
    "\n",
    "df_g_plog.set_index('# nodes', inplace=True)\n",
    "\n",
    "df_g_plog"
   ]
  },
  {
   "cell_type": "code",
   "execution_count": 53,
   "metadata": {},
   "outputs": [
    {
     "data": {
      "text/plain": [
       "<Figure size 432x288 with 0 Axes>"
      ]
     },
     "metadata": {},
     "output_type": "display_data"
    },
    {
     "data": {
      "image/png": "[encoded data removed]",
      "text/plain": [
       "<Figure size 432x288 with 1 Axes>"
      ]
     },
     "metadata": {
      "needs_background": "light"
     },
     "output_type": "display_data"
    }
   ],
   "source": [
    "# selected.plot(x='cluster_id', y='reward_g_test_average', kind='bar')\n",
    "import matplotlib.pyplot as plt\n",
    "plt.tight_layout()\n",
    "df_g_plog.plot(kind='bar')\n",
    "plt.title(\"Reward g Test\")\n",
    "plt.xlabel(\"number of Nodes\")\n",
    "plt.ylabel(\"Average Number of Consolidated\")\n",
    "plt.legend(loc='center left', bbox_to_anchor=(1, 0.5))\n",
    "plt.savefig('test-average-g.pdf', bbox_inches='tight')\n",
    "# plt.show()"
   ]
  },
  {
   "cell_type": "code",
   "execution_count": null,
   "metadata": {},
   "outputs": [],
   "source": []
  }
 ],
 "metadata": {
  "kernelspec": {
   "display_name": "Python 3.8.0 64-bit",
   "language": "python",
   "name": "python3"
  },
  "language_info": {
   "codemirror_mode": {
    "name": "ipython",
    "version": 3
   },
   "file_extension": ".py",
   "mimetype": "text/x-python",
   "name": "python",
   "nbconvert_exporter": "python",
   "pygments_lexer": "ipython3",
   "version": "3.8.0"
  },
  "orig_nbformat": 4,
  "vscode": {
   "interpreter": {
    "hash": "0e2adeafa4d8ea8b56364dfeb24ca99374007784e59d4b40ac8f07b769210312"
   }
  }
 },
 "nbformat": 4,
 "nbformat_minor": 2
}
