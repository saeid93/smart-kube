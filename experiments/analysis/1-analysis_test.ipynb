{
 "cells": [
  {
   "cell_type": "markdown",
   "metadata": {},
   "source": [
    "# Load the tests to compare"
   ]
  },
  {
   "cell_type": "code",
   "execution_count": 19,
   "metadata": {},
   "outputs": [
    {
     "name": "stdout",
     "output_type": "stream",
     "text": [
      "availeble tests:\n",
      " [0, 1, 2, 3, 4, 5, 6, 7, 8]\n",
      "tests_types:\n",
      " ['PG', 'PG', 'PG', 'PPO', 'PPO', 'IMPALA', 'IMPALA', 'IMPALA', 'PPO']\n"
     ]
    }
   ],
   "source": [
    "%matplotlib inline\n",
    "import os\n",
    "import sys\n",
    "import json\n",
    "import pickle\n",
    "import pandas as pd\n",
    "\n",
    "# get an absolute path to the directory that contains parent files\n",
    "project_dir = globals()['_dh'][0]\n",
    "sys.path.append(os.path.normpath(os.path.join(project_dir, '..', '..')))\n",
    "\n",
    "from experiments.utils.constants import TESTS_RESULTS_PATH\n",
    "series = 12\n",
    "start_test = 0\n",
    "end_test = 9\n",
    "tests_ids = [i for i in range(start_test, end_test)]\n",
    "tests_names = [i for i in range(start_test, end_test)]\n",
    "\n",
    "tests = {}\n",
    "\n",
    "\n",
    "for test_id, test_name in zip(tests_ids, tests_names):\n",
    "    test_path = os.path.join(\n",
    "        TESTS_RESULTS_PATH,\n",
    "        'series',\n",
    "        str(series),\n",
    "        'tests',\n",
    "        str(test_id))\n",
    "    with open(os.path.join(test_path, 'info.json')) as cf:\n",
    "        info = json.loads(cf.read())\n",
    "    with open(os.path.join(test_path, 'episodes.pickle'), 'rb') as input_file:\n",
    "        episodes = pickle.load(input_file)\n",
    "    tests.update({test_name: {\n",
    "        'info': info,\n",
    "        'episodes': episodes\n",
    "    }})\n",
    "test_types = [test['info']['algorithm'] for _, test in tests.items()]\n",
    "print(\"availeble tests:\\n {}\\ntests_types:\\n {}\".format(\n",
    "    list(tests.keys()),\n",
    "    test_types))"
   ]
  },
  {
   "cell_type": "markdown",
   "metadata": {},
   "source": [
    "# All Stats of a test"
   ]
  },
  {
   "cell_type": "code",
   "execution_count": 20,
   "metadata": {},
   "outputs": [
    {
     "name": "stdout",
     "output_type": "stream",
     "text": [
      "tests entry structure:\n",
      "dict_keys(['info', 'episodes'])\n",
      "tests entry info structure:\n",
      "dict_keys(['type_env', 'series', 'cluster_id', 'workload_id', 'checkpoint', 'experiment_str', 'experiments', 'episode_length', 'num_episodes', 'algorithm', 'penalty_consolidated', 'num_workers'])\n",
      "tests entry episodes info:\n",
      "Index(['action', 'raw_obs', 'num_consolidated', 'num_overloaded',\n",
      "       'scheduling_timestep', 'scheduling_success', 'reward_illegal',\n",
      "       'reward_u', 'reward_c', 'reward_cv', 'reward_v', 'reward_g', 'reward_p',\n",
      "       'u', 'c', 'cv', 'v', 'g', 'p', 'reward'],\n",
      "      dtype='object')\n"
     ]
    }
   ],
   "source": [
    "test_id = 0\n",
    "episdoe_id = 0\n",
    "print(f'tests entry structure:\\n{tests[test_id].keys()}')\n",
    "print(f\"tests entry info structure:\\n{tests[test_id]['info'].keys()}\")\n",
    "print(f\"tests entry episodes info:\\n{tests[test_id]['episodes'][episdoe_id].columns}\")"
   ]
  },
  {
   "cell_type": "markdown",
   "metadata": {},
   "source": [
    "# Extracting necessary stats of all tests"
   ]
  },
  {
   "cell_type": "code",
   "execution_count": 21,
   "metadata": {},
   "outputs": [],
   "source": [
    "final_stats = []\n",
    "for test_id in range(start_test, end_test):\n",
    "    # TODO check for correctness\n",
    "    num_consolidated_episodes_average = [episode['num_consolidated'].mean() for episode in tests[test_id]['episodes']]\n",
    "    num_consolidated_test_average = sum(num_consolidated_episodes_average) / len(num_consolidated_episodes_average)\n",
    "\n",
    "    num_overloaded_episodes_average = [episode['num_overloaded'].mean() for episode in tests[test_id]['episodes']]\n",
    "    num_overloaded_test_average = sum(num_overloaded_episodes_average) / len(num_overloaded_episodes_average)\n",
    "\n",
    "    scheduling_success_episodes_average = [episode['scheduling_success'].mean() for episode in tests[test_id]['episodes']]\n",
    "    scheduling_success_test_average = sum(scheduling_success_episodes_average) / len(scheduling_success_episodes_average)\n",
    "\n",
    "    reward_illegal_episodes_average = [episode['reward_illegal'].mean() for episode in tests[test_id]['episodes']]\n",
    "    reward_illegal_test_average = sum(reward_illegal_episodes_average) / len(reward_illegal_episodes_average)\n",
    "\n",
    "    reward_u_episodes_average = [episode['reward_u'].mean() for episode in tests[test_id]['episodes']]\n",
    "    reward_u_test_average = sum(reward_u_episodes_average) / len(reward_u_episodes_average)\n",
    "\n",
    "    reward_c_episodes_average = [episode['reward_c'].mean() for episode in tests[test_id]['episodes']]\n",
    "    reward_c_test_average = sum(reward_c_episodes_average) / len(reward_c_episodes_average)\n",
    "\n",
    "    reward_v_episodes_average = [episode['reward_v'].mean() for episode in tests[test_id]['episodes']]\n",
    "    reward_v_test_average = sum(reward_v_episodes_average) / len(reward_v_episodes_average)\n",
    "\n",
    "    reward_cv_episodes_average = [episode['reward_cv'].mean() for episode in tests[test_id]['episodes']]\n",
    "    reward_cv_test_average = sum(reward_cv_episodes_average) / len(reward_cv_episodes_average)\n",
    "\n",
    "    reward_g_episodes_average = [episode['reward_g'].mean() for episode in tests[test_id]['episodes']]\n",
    "    reward_g_test_average = sum(reward_g_episodes_average) / len(reward_g_episodes_average)\n",
    "\n",
    "    reward_p_episodes_average = [episode['reward_p'].mean() for episode in tests[test_id]['episodes']]\n",
    "    reward_p_test_average = sum(reward_p_episodes_average) / len(reward_p_episodes_average)\n",
    "\n",
    "    u_episodes_average = [episode['u'].mean() for episode in tests[test_id]['episodes']]\n",
    "    u_test_average = sum(u_episodes_average) / len(u_episodes_average)\n",
    "\n",
    "    c_episodes_average = [episode['c'].mean() for episode in tests[test_id]['episodes']]\n",
    "    c_test_average = sum(c_episodes_average) / len(c_episodes_average)\n",
    "\n",
    "    v_episodes_average = [episode['v'].mean() for episode in tests[test_id]['episodes']]\n",
    "    v_test_average = sum(v_episodes_average) / len(v_episodes_average)\n",
    "\n",
    "    cv_episodes_average = [episode['cv'].mean() for episode in tests[test_id]['episodes']]\n",
    "    cv_test_average = sum(cv_episodes_average) / len(cv_episodes_average)\n",
    "\n",
    "    g_episodes_average = [episode['g'].mean() for episode in tests[test_id]['episodes']]\n",
    "    g_test_average = sum(g_episodes_average) / len(g_episodes_average)\n",
    "\n",
    "    p_episodes_average = [episode['p'].mean() for episode in tests[test_id]['episodes']]\n",
    "    p_test_average = sum(p_episodes_average) / len(p_episodes_average)\n",
    "\n",
    "    reward_episodes_average = [episode['reward'].mean() for episode in tests[test_id]['episodes']]\n",
    "    reward_test_average = sum(reward_episodes_average) / len(reward_episodes_average)\n",
    "\n",
    "\n",
    "    final_stats.append({\n",
    "        'test_id': test_id,\n",
    "        'checkpoint': tests[test_id]['info']['checkpoint'],\n",
    "        # TODO where is workload id\n",
    "        'workload_id': tests[test_id]['info']['workload_id'],\n",
    "        'experiments': tests[test_id]['info']['experiments'],\n",
    "        'episode_length': tests[test_id]['info']['episode_length'],\n",
    "        'num_episodes': tests[test_id]['info']['num_episodes'],\n",
    "        'penalalty_consolidated': tests[test_id]['info']['penalty_consolidated'],\n",
    "        'num_consolidated_test_average': num_consolidated_test_average,\n",
    "        'num_overloaded_test_average': num_overloaded_test_average,\n",
    "        'scheduling_success_test_average': scheduling_success_test_average,\n",
    "        'reward_illegal_test_average': reward_illegal_test_average,\n",
    "        'reward_u_test_average': reward_u_test_average,\n",
    "        'reward_v_test_average': reward_v_test_average,\n",
    "        'reward_cv_test_average': reward_cv_test_average,\n",
    "        'reward_g_test_average': reward_g_test_average,\n",
    "        'reward_p_test_average': reward_p_test_average,\n",
    "        'u_test_average': u_test_average,\n",
    "        'v_test_average': v_test_average,\n",
    "        'cv_test_average': cv_test_average,\n",
    "        'g_test_average': g_test_average,\n",
    "        'p_test_average': p_test_average,\n",
    "        'reward_test_average': reward_test_average\n",
    "    })\n",
    "\n",
    "final_stats_df = pd.DataFrame(final_stats)\n",
    "final_stats_df['test_types'] = test_types\n",
    "# final_stats_df.loc[df['penalalty_consolidated']]\n",
    "\n",
    "# TODO add the following information to the table (from the info.json file)\n",
    "# - penatly_latency\n",
    "# - penalty_conslidation"
   ]
  },
  {
   "cell_type": "code",
   "execution_count": 22,
   "metadata": {},
   "outputs": [
    {
     "data": {
      "text/plain": [
       "{'type_env': 'sim-scheduler',\n",
       " 'series': 65,\n",
       " 'cluster_id': 13,\n",
       " 'workload_id': 0,\n",
       " 'checkpoint': 11329,\n",
       " 'experiment_str': 'PG_SimSchedulerEnv_2095d_00000_0_2023-01-17_02-03-25',\n",
       " 'experiments': 2,\n",
       " 'episode_length': 1000,\n",
       " 'num_episodes': 5,\n",
       " 'algorithm': 'PG',\n",
       " 'penalty_consolidated': 0,\n",
       " 'num_workers': 4}"
      ]
     },
     "execution_count": 22,
     "metadata": {},
     "output_type": "execute_result"
    }
   ],
   "source": [
    "test_id = 2\n",
    "tests[test_id]['info']"
   ]
  },
  {
   "cell_type": "markdown",
   "metadata": {},
   "source": [
    "# compare tests - tables"
   ]
  },
  {
   "cell_type": "code",
   "execution_count": 23,
   "metadata": {},
   "outputs": [
    {
     "data": {
      "text/plain": [
       "Index(['test_id', 'checkpoint', 'workload_id', 'experiments', 'episode_length',\n",
       "       'num_episodes', 'penalalty_consolidated',\n",
       "       'num_consolidated_test_average', 'num_overloaded_test_average',\n",
       "       'scheduling_success_test_average', 'reward_illegal_test_average',\n",
       "       'reward_u_test_average', 'reward_v_test_average',\n",
       "       'reward_cv_test_average', 'reward_g_test_average',\n",
       "       'reward_p_test_average', 'u_test_average', 'v_test_average',\n",
       "       'cv_test_average', 'g_test_average', 'p_test_average',\n",
       "       'reward_test_average', 'test_types'],\n",
       "      dtype='object')"
      ]
     },
     "execution_count": 23,
     "metadata": {},
     "output_type": "execute_result"
    }
   ],
   "source": [
    "final_stats_df.columns"
   ]
  },
  {
   "cell_type": "code",
   "execution_count": 26,
   "metadata": {},
   "outputs": [
    {
     "data": {
      "text/html": [
       "<div>\n",
       "<style scoped>\n",
       "    .dataframe tbody tr th:only-of-type {\n",
       "        vertical-align: middle;\n",
       "    }\n",
       "\n",
       "    .dataframe tbody tr th {\n",
       "        vertical-align: top;\n",
       "    }\n",
       "\n",
       "    .dataframe thead th {\n",
       "        text-align: right;\n",
       "    }\n",
       "</style>\n",
       "<table border=\"1\" class=\"dataframe\">\n",
       "  <thead>\n",
       "    <tr style=\"text-align: right;\">\n",
       "      <th></th>\n",
       "      <th>test_types</th>\n",
       "      <th>reward_cv_test_average</th>\n",
       "      <th>cv_test_average</th>\n",
       "      <th>reward_p_test_average</th>\n",
       "      <th>p_test_average</th>\n",
       "    </tr>\n",
       "  </thead>\n",
       "  <tbody>\n",
       "    <tr>\n",
       "      <th>0</th>\n",
       "      <td>IMPALA</td>\n",
       "      <td>2.395686</td>\n",
       "      <td>0.001198</td>\n",
       "      <td>0.052574</td>\n",
       "      <td>0.210296</td>\n",
       "    </tr>\n",
       "    <tr>\n",
       "      <th>1</th>\n",
       "      <td>IMPALA</td>\n",
       "      <td>7.919276</td>\n",
       "      <td>0.003960</td>\n",
       "      <td>0.293802</td>\n",
       "      <td>1.175207</td>\n",
       "    </tr>\n",
       "    <tr>\n",
       "      <th>2</th>\n",
       "      <td>IMPALA</td>\n",
       "      <td>11.884548</td>\n",
       "      <td>0.005942</td>\n",
       "      <td>0.750575</td>\n",
       "      <td>3.002299</td>\n",
       "    </tr>\n",
       "    <tr>\n",
       "      <th>3</th>\n",
       "      <td>PG</td>\n",
       "      <td>2.171289</td>\n",
       "      <td>0.001086</td>\n",
       "      <td>0.048704</td>\n",
       "      <td>0.194815</td>\n",
       "    </tr>\n",
       "    <tr>\n",
       "      <th>4</th>\n",
       "      <td>PG</td>\n",
       "      <td>7.533256</td>\n",
       "      <td>0.003767</td>\n",
       "      <td>0.285769</td>\n",
       "      <td>1.143074</td>\n",
       "    </tr>\n",
       "    <tr>\n",
       "      <th>5</th>\n",
       "      <td>PG</td>\n",
       "      <td>11.884548</td>\n",
       "      <td>0.005942</td>\n",
       "      <td>0.750575</td>\n",
       "      <td>3.002299</td>\n",
       "    </tr>\n",
       "    <tr>\n",
       "      <th>6</th>\n",
       "      <td>PPO</td>\n",
       "      <td>2.254080</td>\n",
       "      <td>0.001127</td>\n",
       "      <td>0.050324</td>\n",
       "      <td>0.201296</td>\n",
       "    </tr>\n",
       "    <tr>\n",
       "      <th>7</th>\n",
       "      <td>PPO</td>\n",
       "      <td>7.251135</td>\n",
       "      <td>0.003626</td>\n",
       "      <td>0.284667</td>\n",
       "      <td>1.138667</td>\n",
       "    </tr>\n",
       "    <tr>\n",
       "      <th>8</th>\n",
       "      <td>PPO</td>\n",
       "      <td>11.884548</td>\n",
       "      <td>0.005942</td>\n",
       "      <td>0.750575</td>\n",
       "      <td>3.002299</td>\n",
       "    </tr>\n",
       "  </tbody>\n",
       "</table>\n",
       "</div>"
      ],
      "text/plain": [
       "  test_types  reward_cv_test_average  cv_test_average  reward_p_test_average  \\\n",
       "0     IMPALA                2.395686         0.001198               0.052574   \n",
       "1     IMPALA                7.919276         0.003960               0.293802   \n",
       "2     IMPALA               11.884548         0.005942               0.750575   \n",
       "3         PG                2.171289         0.001086               0.048704   \n",
       "4         PG                7.533256         0.003767               0.285769   \n",
       "5         PG               11.884548         0.005942               0.750575   \n",
       "6        PPO                2.254080         0.001127               0.050324   \n",
       "7        PPO                7.251135         0.003626               0.284667   \n",
       "8        PPO               11.884548         0.005942               0.750575   \n",
       "\n",
       "   p_test_average  \n",
       "0        0.210296  \n",
       "1        1.175207  \n",
       "2        3.002299  \n",
       "3        0.194815  \n",
       "4        1.143074  \n",
       "5        3.002299  \n",
       "6        0.201296  \n",
       "7        1.138667  \n",
       "8        3.002299  "
      ]
     },
     "execution_count": 26,
     "metadata": {},
     "output_type": "execute_result"
    }
   ],
   "source": [
    "plot_df = final_stats_df[\n",
    "    ['test_types', 'reward_cv_test_average',\n",
    "     'cv_test_average', 'reward_p_test_average',\n",
    "     'p_test_average']].sort_values(\n",
    "    by=['test_types', 'p_test_average']\n",
    ").reset_index(drop=True)\n",
    "plot_df"
   ]
  },
  {
   "cell_type": "code",
   "execution_count": 30,
   "metadata": {},
   "outputs": [],
   "source": [
    "plot_cv = plot_df.iloc[[0, 3, 6]]\n",
    "plot_balance = plot_df.iloc[[1, 4, 7]]\n",
    "plot_consolidated = plot_df.iloc[[2, 5, 8]]"
   ]
  },
  {
   "cell_type": "code",
   "execution_count": 37,
   "metadata": {},
   "outputs": [
    {
     "data": {
      "text/html": [
       "<div>\n",
       "<style scoped>\n",
       "    .dataframe tbody tr th:only-of-type {\n",
       "        vertical-align: middle;\n",
       "    }\n",
       "\n",
       "    .dataframe tbody tr th {\n",
       "        vertical-align: top;\n",
       "    }\n",
       "\n",
       "    .dataframe thead th {\n",
       "        text-align: right;\n",
       "    }\n",
       "</style>\n",
       "<table border=\"1\" class=\"dataframe\">\n",
       "  <thead>\n",
       "    <tr style=\"text-align: right;\">\n",
       "      <th></th>\n",
       "      <th>test_types</th>\n",
       "      <th>p_test_average</th>\n",
       "    </tr>\n",
       "  </thead>\n",
       "  <tbody>\n",
       "    <tr>\n",
       "      <th>0</th>\n",
       "      <td>IMPALA</td>\n",
       "      <td>0.210296</td>\n",
       "    </tr>\n",
       "    <tr>\n",
       "      <th>3</th>\n",
       "      <td>PG</td>\n",
       "      <td>0.194815</td>\n",
       "    </tr>\n",
       "    <tr>\n",
       "      <th>6</th>\n",
       "      <td>PPO</td>\n",
       "      <td>0.201296</td>\n",
       "    </tr>\n",
       "  </tbody>\n",
       "</table>\n",
       "</div>"
      ],
      "text/plain": [
       "  test_types  p_test_average\n",
       "0     IMPALA        0.210296\n",
       "3         PG        0.194815\n",
       "6        PPO        0.201296"
      ]
     },
     "execution_count": 37,
     "metadata": {},
     "output_type": "execute_result"
    }
   ],
   "source": [
    "# plot_cv = plot_cv[['test_types', 'p_test_average']]\n",
    "# plot_cv"
   ]
  },
  {
   "cell_type": "markdown",
   "metadata": {},
   "source": [
    "# compare tests - plots"
   ]
  },
  {
   "cell_type": "markdown",
   "metadata": {},
   "source": []
  },
  {
   "cell_type": "code",
   "execution_count": 1,
   "metadata": {},
   "outputs": [
    {
     "ename": "NameError",
     "evalue": "name 'plot_cv' is not defined",
     "output_type": "error",
     "traceback": [
      "\u001b[0;31m---------------------------------------------------------------------------\u001b[0m",
      "\u001b[0;31mNameError\u001b[0m                                 Traceback (most recent call last)",
      "\u001b[0;32m/tmp/ipykernel_48099/2998205948.py\u001b[0m in \u001b[0;36m<module>\u001b[0;34m\u001b[0m\n\u001b[1;32m      1\u001b[0m \u001b[0;32mimport\u001b[0m \u001b[0mmatplotlib\u001b[0m\u001b[0;34m.\u001b[0m\u001b[0mpyplot\u001b[0m \u001b[0;32mas\u001b[0m \u001b[0mplt\u001b[0m\u001b[0;34m\u001b[0m\u001b[0;34m\u001b[0m\u001b[0m\n\u001b[1;32m      2\u001b[0m \u001b[0mplt\u001b[0m\u001b[0;34m.\u001b[0m\u001b[0mtight_layout\u001b[0m\u001b[0;34m(\u001b[0m\u001b[0;34m)\u001b[0m\u001b[0;34m\u001b[0m\u001b[0;34m\u001b[0m\u001b[0m\n\u001b[0;32m----> 3\u001b[0;31m \u001b[0mplot_cv\u001b[0m\u001b[0;34m.\u001b[0m\u001b[0mplot\u001b[0m\u001b[0;34m(\u001b[0m\u001b[0mx\u001b[0m\u001b[0;34m=\u001b[0m\u001b[0;34m'test_types'\u001b[0m\u001b[0;34m,\u001b[0m \u001b[0my\u001b[0m\u001b[0;34m=\u001b[0m\u001b[0;34m'p_test_average'\u001b[0m\u001b[0;34m,\u001b[0m \u001b[0mkind\u001b[0m\u001b[0;34m=\u001b[0m\u001b[0;34m'bar'\u001b[0m\u001b[0;34m)\u001b[0m\u001b[0;34m\u001b[0m\u001b[0;34m\u001b[0m\u001b[0m\n\u001b[0m\u001b[1;32m      4\u001b[0m \u001b[0mplt\u001b[0m\u001b[0;34m.\u001b[0m\u001b[0mtitle\u001b[0m\u001b[0;34m(\u001b[0m\u001b[0;34m\"CV\"\u001b[0m\u001b[0;34m)\u001b[0m\u001b[0;34m\u001b[0m\u001b[0;34m\u001b[0m\u001b[0m\n\u001b[1;32m      5\u001b[0m \u001b[0mplt\u001b[0m\u001b[0;34m.\u001b[0m\u001b[0mxlabel\u001b[0m\u001b[0;34m(\u001b[0m\u001b[0;34m\"Algorithms\"\u001b[0m\u001b[0;34m)\u001b[0m\u001b[0;34m\u001b[0m\u001b[0;34m\u001b[0m\u001b[0m\n",
      "\u001b[0;31mNameError\u001b[0m: name 'plot_cv' is not defined"
     ]
    },
    {
     "data": {
      "text/plain": [
       "<Figure size 432x288 with 0 Axes>"
      ]
     },
     "metadata": {},
     "output_type": "display_data"
    }
   ],
   "source": [
    "import matplotlib.pyplot as plt\n",
    "plt.tight_layout()\n",
    "plot_cv.plot(x='test_types', y='p_test_average', kind='bar')\n",
    "plt.title(\"CV\")\n",
    "plt.xlabel(\"Algorithms\")\n",
    "plt.ylabel(\"Number of Consolidated\")\n",
    "plt.legend(loc='center left', bbox_to_anchor=(1, 0.5))\n",
    "# plt.savefig('./test-average-latency.pdf', bbox_inches='tight')\n",
    "plt.show()"
   ]
  },
  {
   "cell_type": "code",
   "execution_count": 42,
   "metadata": {},
   "outputs": [
    {
     "data": {
      "text/plain": [
       "<Figure size 432x288 with 0 Axes>"
      ]
     },
     "metadata": {},
     "output_type": "display_data"
    },
    {
     "data": {
      "image/png": "[encoded data removed]",
      "text/plain": [
       "<Figure size 432x288 with 1 Axes>"
      ]
     },
     "metadata": {
      "needs_background": "light"
     },
     "output_type": "display_data"
    }
   ],
   "source": [
    "import matplotlib.pyplot as plt\n",
    "plt.tight_layout()\n",
    "plot_consolidated.plot(x='test_types', y='p_test_average', kind='bar')\n",
    "plt.title(\"Variance of Rsource difference between differnt clouds\")\n",
    "plt.xlabel(\"Algorithms\")\n",
    "plt.ylabel(\"Number of Consolidated\")\n",
    "plt.legend(loc='center left', bbox_to_anchor=(1, 0.5))\n",
    "# plt.savefig('./test-average-latency.pdf', bbox_inches='tight')\n",
    "plt.show()"
   ]
  },
  {
   "cell_type": "code",
   "execution_count": null,
   "metadata": {},
   "outputs": [],
   "source": []
  }
 ],
 "metadata": {
  "kernelspec": {
   "display_name": "Python 3.8.0 64-bit",
   "language": "python",
   "name": "python3"
  },
  "language_info": {
   "codemirror_mode": {
    "name": "ipython",
    "version": 3
   },
   "file_extension": ".py",
   "mimetype": "text/x-python",
   "name": "python",
   "nbconvert_exporter": "python",
   "pygments_lexer": "ipython3",
   "version": "3.8.0"
  },
  "orig_nbformat": 4,
  "vscode": {
   "interpreter": {
    "hash": "0e2adeafa4d8ea8b56364dfeb24ca99374007784e59d4b40ac8f07b769210312"
   }
  }
 },
 "nbformat": 4,
 "nbformat_minor": 2
}
